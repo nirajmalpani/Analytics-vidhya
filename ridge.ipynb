{
 "cells": [
  {
   "cell_type": "code",
   "execution_count": 1,
   "metadata": {
    "colab": {},
    "colab_type": "code",
    "executionInfo": {
     "elapsed": 10216,
     "status": "ok",
     "timestamp": 1597974318734,
     "user": {
      "displayName": "Shresth Mishra",
      "photoUrl": "https://lh3.googleusercontent.com/a-/AOh14GiG4dS6pwP0ggA9D6IMkt6dF2KN6CWr1N3rfycxRA=s64",
      "userId": "10439759721564897816"
     },
     "user_tz": -330
    },
    "id": "_esRnuYrm2wV"
   },
   "outputs": [],
   "source": [
    "import numpy as np\n",
    "import pandas as pd"
   ]
  },
  {
   "cell_type": "code",
   "execution_count": 2,
   "metadata": {
    "colab": {},
    "colab_type": "code",
    "executionInfo": {
     "elapsed": 11589,
     "status": "ok",
     "timestamp": 1597974332982,
     "user": {
      "displayName": "Shresth Mishra",
      "photoUrl": "https://lh3.googleusercontent.com/a-/AOh14GiG4dS6pwP0ggA9D6IMkt6dF2KN6CWr1N3rfycxRA=s64",
      "userId": "10439759721564897816"
     },
     "user_tz": -330
    },
    "id": "Dqf6w_9hm2we"
   },
   "outputs": [],
   "source": [
    "\n",
    "train=pd.read_csv('train.csv')"
   ]
  },
  {
   "cell_type": "code",
   "execution_count": 3,
   "metadata": {
    "colab": {
     "base_uri": "https://localhost:8080/",
     "height": 204
    },
    "colab_type": "code",
    "executionInfo": {
     "elapsed": 11527,
     "status": "ok",
     "timestamp": 1597974332984,
     "user": {
      "displayName": "Shresth Mishra",
      "photoUrl": "https://lh3.googleusercontent.com/a-/AOh14GiG4dS6pwP0ggA9D6IMkt6dF2KN6CWr1N3rfycxRA=s64",
      "userId": "10439759721564897816"
     },
     "user_tz": -330
    },
    "id": "iqmGDsZlm2wm",
    "outputId": "f44d68f8-7a2b-4f18-d9b0-7d1bcf6efd96"
   },
   "outputs": [
    {
     "data": {
      "text/html": [
       "<div>\n",
       "<style scoped>\n",
       "    .dataframe tbody tr th:only-of-type {\n",
       "        vertical-align: middle;\n",
       "    }\n",
       "\n",
       "    .dataframe tbody tr th {\n",
       "        vertical-align: top;\n",
       "    }\n",
       "\n",
       "    .dataframe thead th {\n",
       "        text-align: right;\n",
       "    }\n",
       "</style>\n",
       "<table border=\"1\" class=\"dataframe\">\n",
       "  <thead>\n",
       "    <tr style=\"text-align: right;\">\n",
       "      <th></th>\n",
       "      <th>ID</th>\n",
       "      <th>TITLE</th>\n",
       "      <th>ABSTRACT</th>\n",
       "      <th>Computer Science</th>\n",
       "      <th>Physics</th>\n",
       "      <th>Mathematics</th>\n",
       "      <th>Statistics</th>\n",
       "      <th>Quantitative Biology</th>\n",
       "      <th>Quantitative Finance</th>\n",
       "    </tr>\n",
       "  </thead>\n",
       "  <tbody>\n",
       "    <tr>\n",
       "      <th>0</th>\n",
       "      <td>1</td>\n",
       "      <td>Reconstructing Subject-Specific Effect Maps</td>\n",
       "      <td>Predictive models allow subject-specific inf...</td>\n",
       "      <td>1</td>\n",
       "      <td>0</td>\n",
       "      <td>0</td>\n",
       "      <td>0</td>\n",
       "      <td>0</td>\n",
       "      <td>0</td>\n",
       "    </tr>\n",
       "    <tr>\n",
       "      <th>1</th>\n",
       "      <td>2</td>\n",
       "      <td>Rotation Invariance Neural Network</td>\n",
       "      <td>Rotation invariance and translation invarian...</td>\n",
       "      <td>1</td>\n",
       "      <td>0</td>\n",
       "      <td>0</td>\n",
       "      <td>0</td>\n",
       "      <td>0</td>\n",
       "      <td>0</td>\n",
       "    </tr>\n",
       "    <tr>\n",
       "      <th>2</th>\n",
       "      <td>3</td>\n",
       "      <td>Spherical polyharmonics and Poisson kernels fo...</td>\n",
       "      <td>We introduce and develop the notion of spher...</td>\n",
       "      <td>0</td>\n",
       "      <td>0</td>\n",
       "      <td>1</td>\n",
       "      <td>0</td>\n",
       "      <td>0</td>\n",
       "      <td>0</td>\n",
       "    </tr>\n",
       "    <tr>\n",
       "      <th>3</th>\n",
       "      <td>4</td>\n",
       "      <td>A finite element approximation for the stochas...</td>\n",
       "      <td>The stochastic Landau--Lifshitz--Gilbert (LL...</td>\n",
       "      <td>0</td>\n",
       "      <td>0</td>\n",
       "      <td>1</td>\n",
       "      <td>0</td>\n",
       "      <td>0</td>\n",
       "      <td>0</td>\n",
       "    </tr>\n",
       "    <tr>\n",
       "      <th>4</th>\n",
       "      <td>5</td>\n",
       "      <td>Comparative study of Discrete Wavelet Transfor...</td>\n",
       "      <td>Fourier-transform infra-red (FTIR) spectra o...</td>\n",
       "      <td>1</td>\n",
       "      <td>0</td>\n",
       "      <td>0</td>\n",
       "      <td>1</td>\n",
       "      <td>0</td>\n",
       "      <td>0</td>\n",
       "    </tr>\n",
       "  </tbody>\n",
       "</table>\n",
       "</div>"
      ],
      "text/plain": [
       "   ID                                              TITLE  \\\n",
       "0   1        Reconstructing Subject-Specific Effect Maps   \n",
       "1   2                 Rotation Invariance Neural Network   \n",
       "2   3  Spherical polyharmonics and Poisson kernels fo...   \n",
       "3   4  A finite element approximation for the stochas...   \n",
       "4   5  Comparative study of Discrete Wavelet Transfor...   \n",
       "\n",
       "                                            ABSTRACT  Computer Science  \\\n",
       "0    Predictive models allow subject-specific inf...                 1   \n",
       "1    Rotation invariance and translation invarian...                 1   \n",
       "2    We introduce and develop the notion of spher...                 0   \n",
       "3    The stochastic Landau--Lifshitz--Gilbert (LL...                 0   \n",
       "4    Fourier-transform infra-red (FTIR) spectra o...                 1   \n",
       "\n",
       "   Physics  Mathematics  Statistics  Quantitative Biology  \\\n",
       "0        0            0           0                     0   \n",
       "1        0            0           0                     0   \n",
       "2        0            1           0                     0   \n",
       "3        0            1           0                     0   \n",
       "4        0            0           1                     0   \n",
       "\n",
       "   Quantitative Finance  \n",
       "0                     0  \n",
       "1                     0  \n",
       "2                     0  \n",
       "3                     0  \n",
       "4                     0  "
      ]
     },
     "execution_count": 3,
     "metadata": {},
     "output_type": "execute_result"
    }
   ],
   "source": [
    "train.head(\n",
    ")"
   ]
  },
  {
   "cell_type": "code",
   "execution_count": 4,
   "metadata": {
    "colab": {
     "base_uri": "https://localhost:8080/",
     "height": 187
    },
    "colab_type": "code",
    "executionInfo": {
     "elapsed": 7226,
     "status": "ok",
     "timestamp": 1597974346966,
     "user": {
      "displayName": "Shresth Mishra",
      "photoUrl": "https://lh3.googleusercontent.com/a-/AOh14GiG4dS6pwP0ggA9D6IMkt6dF2KN6CWr1N3rfycxRA=s64",
      "userId": "10439759721564897816"
     },
     "user_tz": -330
    },
    "id": "pqGn0nlYm2wx",
    "outputId": "c060b17e-5989-400f-e106-bd38dde3d4fd"
   },
   "outputs": [
    {
     "data": {
      "text/plain": [
       "ID                      0\n",
       "TITLE                   0\n",
       "ABSTRACT                0\n",
       "Computer Science        0\n",
       "Physics                 0\n",
       "Mathematics             0\n",
       "Statistics              0\n",
       "Quantitative Biology    0\n",
       "Quantitative Finance    0\n",
       "dtype: int64"
      ]
     },
     "execution_count": 4,
     "metadata": {},
     "output_type": "execute_result"
    }
   ],
   "source": [
    "train.isnull().sum()"
   ]
  },
  {
   "cell_type": "code",
   "execution_count": 5,
   "metadata": {
    "colab": {},
    "colab_type": "code",
    "executionInfo": {
     "elapsed": 1528,
     "status": "ok",
     "timestamp": 1597974395899,
     "user": {
      "displayName": "Shresth Mishra",
      "photoUrl": "https://lh3.googleusercontent.com/a-/AOh14GiG4dS6pwP0ggA9D6IMkt6dF2KN6CWr1N3rfycxRA=s64",
      "userId": "10439759721564897816"
     },
     "user_tz": -330
    },
    "id": "4YuSami9m2w6"
   },
   "outputs": [],
   "source": [
    "test=pd.read_csv('test.csv')"
   ]
  },
  {
   "cell_type": "code",
   "execution_count": 6,
   "metadata": {
    "colab": {
     "base_uri": "https://localhost:8080/",
     "height": 204
    },
    "colab_type": "code",
    "executionInfo": {
     "elapsed": 1339,
     "status": "ok",
     "timestamp": 1597974398197,
     "user": {
      "displayName": "Shresth Mishra",
      "photoUrl": "https://lh3.googleusercontent.com/a-/AOh14GiG4dS6pwP0ggA9D6IMkt6dF2KN6CWr1N3rfycxRA=s64",
      "userId": "10439759721564897816"
     },
     "user_tz": -330
    },
    "id": "iJ4KpKYxm2xA",
    "outputId": "843cf066-b4ad-4d57-f638-4a5d2ede4899"
   },
   "outputs": [
    {
     "data": {
      "text/html": [
       "<div>\n",
       "<style scoped>\n",
       "    .dataframe tbody tr th:only-of-type {\n",
       "        vertical-align: middle;\n",
       "    }\n",
       "\n",
       "    .dataframe tbody tr th {\n",
       "        vertical-align: top;\n",
       "    }\n",
       "\n",
       "    .dataframe thead th {\n",
       "        text-align: right;\n",
       "    }\n",
       "</style>\n",
       "<table border=\"1\" class=\"dataframe\">\n",
       "  <thead>\n",
       "    <tr style=\"text-align: right;\">\n",
       "      <th></th>\n",
       "      <th>ID</th>\n",
       "      <th>TITLE</th>\n",
       "      <th>ABSTRACT</th>\n",
       "    </tr>\n",
       "  </thead>\n",
       "  <tbody>\n",
       "    <tr>\n",
       "      <th>0</th>\n",
       "      <td>20973</td>\n",
       "      <td>Closed-form Marginal Likelihood in Gamma-Poiss...</td>\n",
       "      <td>We present novel understandings of the Gamma...</td>\n",
       "    </tr>\n",
       "    <tr>\n",
       "      <th>1</th>\n",
       "      <td>20974</td>\n",
       "      <td>Laboratory mid-IR spectra of equilibrated and ...</td>\n",
       "      <td>Meteorites contain minerals from Solar Syste...</td>\n",
       "    </tr>\n",
       "    <tr>\n",
       "      <th>2</th>\n",
       "      <td>20975</td>\n",
       "      <td>Case For Static AMSDU Aggregation in WLANs</td>\n",
       "      <td>Frame aggregation is a mechanism by which mu...</td>\n",
       "    </tr>\n",
       "    <tr>\n",
       "      <th>3</th>\n",
       "      <td>20976</td>\n",
       "      <td>The $Gaia$-ESO Survey: the inner disk intermed...</td>\n",
       "      <td>Milky Way open clusters are very diverse in ...</td>\n",
       "    </tr>\n",
       "    <tr>\n",
       "      <th>4</th>\n",
       "      <td>20977</td>\n",
       "      <td>Witness-Functions versus Interpretation-Functi...</td>\n",
       "      <td>Proving that a cryptographic protocol is cor...</td>\n",
       "    </tr>\n",
       "  </tbody>\n",
       "</table>\n",
       "</div>"
      ],
      "text/plain": [
       "      ID                                              TITLE  \\\n",
       "0  20973  Closed-form Marginal Likelihood in Gamma-Poiss...   \n",
       "1  20974  Laboratory mid-IR spectra of equilibrated and ...   \n",
       "2  20975         Case For Static AMSDU Aggregation in WLANs   \n",
       "3  20976  The $Gaia$-ESO Survey: the inner disk intermed...   \n",
       "4  20977  Witness-Functions versus Interpretation-Functi...   \n",
       "\n",
       "                                            ABSTRACT  \n",
       "0    We present novel understandings of the Gamma...  \n",
       "1    Meteorites contain minerals from Solar Syste...  \n",
       "2    Frame aggregation is a mechanism by which mu...  \n",
       "3    Milky Way open clusters are very diverse in ...  \n",
       "4    Proving that a cryptographic protocol is cor...  "
      ]
     },
     "execution_count": 6,
     "metadata": {},
     "output_type": "execute_result"
    }
   ],
   "source": [
    "\n",
    "test.head()"
   ]
  },
  {
   "cell_type": "code",
   "execution_count": 7,
   "metadata": {
    "colab": {
     "base_uri": "https://localhost:8080/",
     "height": 85
    },
    "colab_type": "code",
    "executionInfo": {
     "elapsed": 982,
     "status": "ok",
     "timestamp": 1597974398786,
     "user": {
      "displayName": "Shresth Mishra",
      "photoUrl": "https://lh3.googleusercontent.com/a-/AOh14GiG4dS6pwP0ggA9D6IMkt6dF2KN6CWr1N3rfycxRA=s64",
      "userId": "10439759721564897816"
     },
     "user_tz": -330
    },
    "id": "RX0sZKG4m2xJ",
    "outputId": "6b43f097-7527-4069-a96a-2917c9a345a1"
   },
   "outputs": [
    {
     "data": {
      "text/plain": [
       "ID          0\n",
       "TITLE       0\n",
       "ABSTRACT    0\n",
       "dtype: int64"
      ]
     },
     "execution_count": 7,
     "metadata": {},
     "output_type": "execute_result"
    }
   ],
   "source": [
    "test.isnull().sum()"
   ]
  },
  {
   "cell_type": "code",
   "execution_count": 8,
   "metadata": {
    "colab": {},
    "colab_type": "code",
    "executionInfo": {
     "elapsed": 1137,
     "status": "ok",
     "timestamp": 1597974412503,
     "user": {
      "displayName": "Shresth Mishra",
      "photoUrl": "https://lh3.googleusercontent.com/a-/AOh14GiG4dS6pwP0ggA9D6IMkt6dF2KN6CWr1N3rfycxRA=s64",
      "userId": "10439759721564897816"
     },
     "user_tz": -330
    },
    "id": "zmAyx6Cgm2xS"
   },
   "outputs": [],
   "source": [
    "train['TITLE']=train['TITLE'].astype(str)\n",
    "train['ABSTRACT']=train['ABSTRACT'].astype(str)\n",
    "test['TITLE']=test['TITLE'].astype(str)\n",
    "test['ABSTRACT']=test['ABSTRACT'].astype(str)"
   ]
  },
  {
   "cell_type": "code",
   "execution_count": 9,
   "metadata": {
    "colab": {
     "base_uri": "https://localhost:8080/",
     "height": 204
    },
    "colab_type": "code",
    "executionInfo": {
     "elapsed": 1058,
     "status": "ok",
     "timestamp": 1597974414161,
     "user": {
      "displayName": "Shresth Mishra",
      "photoUrl": "https://lh3.googleusercontent.com/a-/AOh14GiG4dS6pwP0ggA9D6IMkt6dF2KN6CWr1N3rfycxRA=s64",
      "userId": "10439759721564897816"
     },
     "user_tz": -330
    },
    "id": "FGUuQiV9m2xb",
    "outputId": "6319699d-c737-4e99-a7f5-7c9afaab50ba"
   },
   "outputs": [
    {
     "data": {
      "text/html": [
       "<div>\n",
       "<style scoped>\n",
       "    .dataframe tbody tr th:only-of-type {\n",
       "        vertical-align: middle;\n",
       "    }\n",
       "\n",
       "    .dataframe tbody tr th {\n",
       "        vertical-align: top;\n",
       "    }\n",
       "\n",
       "    .dataframe thead th {\n",
       "        text-align: right;\n",
       "    }\n",
       "</style>\n",
       "<table border=\"1\" class=\"dataframe\">\n",
       "  <thead>\n",
       "    <tr style=\"text-align: right;\">\n",
       "      <th></th>\n",
       "      <th>ID</th>\n",
       "      <th>TITLE</th>\n",
       "      <th>ABSTRACT</th>\n",
       "      <th>Computer Science</th>\n",
       "      <th>Physics</th>\n",
       "      <th>Mathematics</th>\n",
       "      <th>Statistics</th>\n",
       "      <th>Quantitative Biology</th>\n",
       "      <th>Quantitative Finance</th>\n",
       "    </tr>\n",
       "  </thead>\n",
       "  <tbody>\n",
       "    <tr>\n",
       "      <th>0</th>\n",
       "      <td>1</td>\n",
       "      <td>Reconstructing Subject-Specific Effect Maps</td>\n",
       "      <td>Predictive models allow subject-specific inf...</td>\n",
       "      <td>1</td>\n",
       "      <td>0</td>\n",
       "      <td>0</td>\n",
       "      <td>0</td>\n",
       "      <td>0</td>\n",
       "      <td>0</td>\n",
       "    </tr>\n",
       "    <tr>\n",
       "      <th>1</th>\n",
       "      <td>2</td>\n",
       "      <td>Rotation Invariance Neural Network</td>\n",
       "      <td>Rotation invariance and translation invarian...</td>\n",
       "      <td>1</td>\n",
       "      <td>0</td>\n",
       "      <td>0</td>\n",
       "      <td>0</td>\n",
       "      <td>0</td>\n",
       "      <td>0</td>\n",
       "    </tr>\n",
       "    <tr>\n",
       "      <th>2</th>\n",
       "      <td>3</td>\n",
       "      <td>Spherical polyharmonics and Poisson kernels fo...</td>\n",
       "      <td>We introduce and develop the notion of spher...</td>\n",
       "      <td>0</td>\n",
       "      <td>0</td>\n",
       "      <td>1</td>\n",
       "      <td>0</td>\n",
       "      <td>0</td>\n",
       "      <td>0</td>\n",
       "    </tr>\n",
       "    <tr>\n",
       "      <th>3</th>\n",
       "      <td>4</td>\n",
       "      <td>A finite element approximation for the stochas...</td>\n",
       "      <td>The stochastic Landau--Lifshitz--Gilbert (LL...</td>\n",
       "      <td>0</td>\n",
       "      <td>0</td>\n",
       "      <td>1</td>\n",
       "      <td>0</td>\n",
       "      <td>0</td>\n",
       "      <td>0</td>\n",
       "    </tr>\n",
       "    <tr>\n",
       "      <th>4</th>\n",
       "      <td>5</td>\n",
       "      <td>Comparative study of Discrete Wavelet Transfor...</td>\n",
       "      <td>Fourier-transform infra-red (FTIR) spectra o...</td>\n",
       "      <td>1</td>\n",
       "      <td>0</td>\n",
       "      <td>0</td>\n",
       "      <td>1</td>\n",
       "      <td>0</td>\n",
       "      <td>0</td>\n",
       "    </tr>\n",
       "  </tbody>\n",
       "</table>\n",
       "</div>"
      ],
      "text/plain": [
       "   ID                                              TITLE  \\\n",
       "0   1        Reconstructing Subject-Specific Effect Maps   \n",
       "1   2                 Rotation Invariance Neural Network   \n",
       "2   3  Spherical polyharmonics and Poisson kernels fo...   \n",
       "3   4  A finite element approximation for the stochas...   \n",
       "4   5  Comparative study of Discrete Wavelet Transfor...   \n",
       "\n",
       "                                            ABSTRACT  Computer Science  \\\n",
       "0    Predictive models allow subject-specific inf...                 1   \n",
       "1    Rotation invariance and translation invarian...                 1   \n",
       "2    We introduce and develop the notion of spher...                 0   \n",
       "3    The stochastic Landau--Lifshitz--Gilbert (LL...                 0   \n",
       "4    Fourier-transform infra-red (FTIR) spectra o...                 1   \n",
       "\n",
       "   Physics  Mathematics  Statistics  Quantitative Biology  \\\n",
       "0        0            0           0                     0   \n",
       "1        0            0           0                     0   \n",
       "2        0            1           0                     0   \n",
       "3        0            1           0                     0   \n",
       "4        0            0           1                     0   \n",
       "\n",
       "   Quantitative Finance  \n",
       "0                     0  \n",
       "1                     0  \n",
       "2                     0  \n",
       "3                     0  \n",
       "4                     0  "
      ]
     },
     "execution_count": 9,
     "metadata": {},
     "output_type": "execute_result"
    }
   ],
   "source": [
    "train.head()"
   ]
  },
  {
   "cell_type": "code",
   "execution_count": 10,
   "metadata": {
    "colab": {},
    "colab_type": "code",
    "executionInfo": {
     "elapsed": 1618,
     "status": "ok",
     "timestamp": 1597974559070,
     "user": {
      "displayName": "Shresth Mishra",
      "photoUrl": "https://lh3.googleusercontent.com/a-/AOh14GiG4dS6pwP0ggA9D6IMkt6dF2KN6CWr1N3rfycxRA=s64",
      "userId": "10439759721564897816"
     },
     "user_tz": -330
    },
    "id": "Gsw7m3z9m2xh"
   },
   "outputs": [],
   "source": [
    "import re\n",
    "def tweet_cleaner(text):\n",
    "    mention=re.compile(r'@[A-Za-z0-9]+')\n",
    "    return mention.sub(r'',text)\n",
    "\n",
    "\n",
    "train[\"TITLE\"] = train['TITLE'].apply(lambda x :tweet_cleaner(x))\n",
    "train[\"ABSTRACT\"] = train['ABSTRACT'].apply(lambda x :tweet_cleaner(x))\n",
    "train['TITLE']=train['TITLE'].apply(lambda x :tweet_cleaner(x))\n",
    "train['ABSTRACT']=train['ABSTRACT'].apply(lambda x :tweet_cleaner(x))"
   ]
  },
  {
   "cell_type": "code",
   "execution_count": 11,
   "metadata": {
    "colab": {},
    "colab_type": "code",
    "executionInfo": {
     "elapsed": 2054,
     "status": "ok",
     "timestamp": 1597974561869,
     "user": {
      "displayName": "Shresth Mishra",
      "photoUrl": "https://lh3.googleusercontent.com/a-/AOh14GiG4dS6pwP0ggA9D6IMkt6dF2KN6CWr1N3rfycxRA=s64",
      "userId": "10439759721564897816"
     },
     "user_tz": -330
    },
    "id": "gtJh7NPcm2xs"
   },
   "outputs": [],
   "source": [
    "train['TITLE']=train['TITLE'].str.lower()\n",
    "train[\"ABSTRACT\"] = train['ABSTRACT'].str.lower()\n",
    "test['TITLE']=test['TITLE'].str.lower()\n",
    "test['ABSTRACT']=test['ABSTRACT'].str.lower()"
   ]
  },
  {
   "cell_type": "code",
   "execution_count": 12,
   "metadata": {
    "colab": {
     "base_uri": "https://localhost:8080/",
     "height": 204
    },
    "colab_type": "code",
    "executionInfo": {
     "elapsed": 1506,
     "status": "ok",
     "timestamp": 1597974561873,
     "user": {
      "displayName": "Shresth Mishra",
      "photoUrl": "https://lh3.googleusercontent.com/a-/AOh14GiG4dS6pwP0ggA9D6IMkt6dF2KN6CWr1N3rfycxRA=s64",
      "userId": "10439759721564897816"
     },
     "user_tz": -330
    },
    "id": "Izz-DEFgm2xy",
    "outputId": "b8cf2273-782c-443a-8502-df39eca6fca7"
   },
   "outputs": [
    {
     "data": {
      "text/html": [
       "<div>\n",
       "<style scoped>\n",
       "    .dataframe tbody tr th:only-of-type {\n",
       "        vertical-align: middle;\n",
       "    }\n",
       "\n",
       "    .dataframe tbody tr th {\n",
       "        vertical-align: top;\n",
       "    }\n",
       "\n",
       "    .dataframe thead th {\n",
       "        text-align: right;\n",
       "    }\n",
       "</style>\n",
       "<table border=\"1\" class=\"dataframe\">\n",
       "  <thead>\n",
       "    <tr style=\"text-align: right;\">\n",
       "      <th></th>\n",
       "      <th>ID</th>\n",
       "      <th>TITLE</th>\n",
       "      <th>ABSTRACT</th>\n",
       "      <th>Computer Science</th>\n",
       "      <th>Physics</th>\n",
       "      <th>Mathematics</th>\n",
       "      <th>Statistics</th>\n",
       "      <th>Quantitative Biology</th>\n",
       "      <th>Quantitative Finance</th>\n",
       "    </tr>\n",
       "  </thead>\n",
       "  <tbody>\n",
       "    <tr>\n",
       "      <th>0</th>\n",
       "      <td>1</td>\n",
       "      <td>reconstructing subject-specific effect maps</td>\n",
       "      <td>predictive models allow subject-specific inf...</td>\n",
       "      <td>1</td>\n",
       "      <td>0</td>\n",
       "      <td>0</td>\n",
       "      <td>0</td>\n",
       "      <td>0</td>\n",
       "      <td>0</td>\n",
       "    </tr>\n",
       "    <tr>\n",
       "      <th>1</th>\n",
       "      <td>2</td>\n",
       "      <td>rotation invariance neural network</td>\n",
       "      <td>rotation invariance and translation invarian...</td>\n",
       "      <td>1</td>\n",
       "      <td>0</td>\n",
       "      <td>0</td>\n",
       "      <td>0</td>\n",
       "      <td>0</td>\n",
       "      <td>0</td>\n",
       "    </tr>\n",
       "    <tr>\n",
       "      <th>2</th>\n",
       "      <td>3</td>\n",
       "      <td>spherical polyharmonics and poisson kernels fo...</td>\n",
       "      <td>we introduce and develop the notion of spher...</td>\n",
       "      <td>0</td>\n",
       "      <td>0</td>\n",
       "      <td>1</td>\n",
       "      <td>0</td>\n",
       "      <td>0</td>\n",
       "      <td>0</td>\n",
       "    </tr>\n",
       "    <tr>\n",
       "      <th>3</th>\n",
       "      <td>4</td>\n",
       "      <td>a finite element approximation for the stochas...</td>\n",
       "      <td>the stochastic landau--lifshitz--gilbert (ll...</td>\n",
       "      <td>0</td>\n",
       "      <td>0</td>\n",
       "      <td>1</td>\n",
       "      <td>0</td>\n",
       "      <td>0</td>\n",
       "      <td>0</td>\n",
       "    </tr>\n",
       "    <tr>\n",
       "      <th>4</th>\n",
       "      <td>5</td>\n",
       "      <td>comparative study of discrete wavelet transfor...</td>\n",
       "      <td>fourier-transform infra-red (ftir) spectra o...</td>\n",
       "      <td>1</td>\n",
       "      <td>0</td>\n",
       "      <td>0</td>\n",
       "      <td>1</td>\n",
       "      <td>0</td>\n",
       "      <td>0</td>\n",
       "    </tr>\n",
       "  </tbody>\n",
       "</table>\n",
       "</div>"
      ],
      "text/plain": [
       "   ID                                              TITLE  \\\n",
       "0   1        reconstructing subject-specific effect maps   \n",
       "1   2                 rotation invariance neural network   \n",
       "2   3  spherical polyharmonics and poisson kernels fo...   \n",
       "3   4  a finite element approximation for the stochas...   \n",
       "4   5  comparative study of discrete wavelet transfor...   \n",
       "\n",
       "                                            ABSTRACT  Computer Science  \\\n",
       "0    predictive models allow subject-specific inf...                 1   \n",
       "1    rotation invariance and translation invarian...                 1   \n",
       "2    we introduce and develop the notion of spher...                 0   \n",
       "3    the stochastic landau--lifshitz--gilbert (ll...                 0   \n",
       "4    fourier-transform infra-red (ftir) spectra o...                 1   \n",
       "\n",
       "   Physics  Mathematics  Statistics  Quantitative Biology  \\\n",
       "0        0            0           0                     0   \n",
       "1        0            0           0                     0   \n",
       "2        0            1           0                     0   \n",
       "3        0            1           0                     0   \n",
       "4        0            0           1                     0   \n",
       "\n",
       "   Quantitative Finance  \n",
       "0                     0  \n",
       "1                     0  \n",
       "2                     0  \n",
       "3                     0  \n",
       "4                     0  "
      ]
     },
     "execution_count": 12,
     "metadata": {},
     "output_type": "execute_result"
    }
   ],
   "source": [
    "train.head()"
   ]
  },
  {
   "cell_type": "code",
   "execution_count": 13,
   "metadata": {
    "colab": {},
    "colab_type": "code",
    "executionInfo": {
     "elapsed": 2700,
     "status": "ok",
     "timestamp": 1597974604359,
     "user": {
      "displayName": "Shresth Mishra",
      "photoUrl": "https://lh3.googleusercontent.com/a-/AOh14GiG4dS6pwP0ggA9D6IMkt6dF2KN6CWr1N3rfycxRA=s64",
      "userId": "10439759721564897816"
     },
     "user_tz": -330
    },
    "id": "woIMNirEm2x8"
   },
   "outputs": [],
   "source": [
    "import string\n",
    "def clean(text):\n",
    "    result = re.sub(r'\\d+', '', text)\n",
    "    result=result.strip()\n",
    "    result=result.translate(str.maketrans('', '', string.punctuation))\n",
    "    return result\n",
    "train[\"TITLE\"] = train['TITLE'].apply(lambda x :clean(x))\n",
    "train[\"ABSTRACT\"] = train['ABSTRACT'].apply(lambda x :clean(x))\n",
    "test[\"TITLE\"] = test['TITLE'].apply(lambda x :clean(x))\n",
    "test[\"ABSTRACT\"] = test['ABSTRACT'].apply(lambda x :clean(x))"
   ]
  },
  {
   "cell_type": "code",
   "execution_count": 14,
   "metadata": {
    "colab": {
     "base_uri": "https://localhost:8080/",
     "height": 204
    },
    "colab_type": "code",
    "executionInfo": {
     "elapsed": 2460,
     "status": "ok",
     "timestamp": 1597974604361,
     "user": {
      "displayName": "Shresth Mishra",
      "photoUrl": "https://lh3.googleusercontent.com/a-/AOh14GiG4dS6pwP0ggA9D6IMkt6dF2KN6CWr1N3rfycxRA=s64",
      "userId": "10439759721564897816"
     },
     "user_tz": -330
    },
    "id": "cdxMCahwm2yB",
    "outputId": "90613110-9f8e-43ab-b1c4-76568a0ac974"
   },
   "outputs": [
    {
     "data": {
      "text/html": [
       "<div>\n",
       "<style scoped>\n",
       "    .dataframe tbody tr th:only-of-type {\n",
       "        vertical-align: middle;\n",
       "    }\n",
       "\n",
       "    .dataframe tbody tr th {\n",
       "        vertical-align: top;\n",
       "    }\n",
       "\n",
       "    .dataframe thead th {\n",
       "        text-align: right;\n",
       "    }\n",
       "</style>\n",
       "<table border=\"1\" class=\"dataframe\">\n",
       "  <thead>\n",
       "    <tr style=\"text-align: right;\">\n",
       "      <th></th>\n",
       "      <th>ID</th>\n",
       "      <th>TITLE</th>\n",
       "      <th>ABSTRACT</th>\n",
       "      <th>Computer Science</th>\n",
       "      <th>Physics</th>\n",
       "      <th>Mathematics</th>\n",
       "      <th>Statistics</th>\n",
       "      <th>Quantitative Biology</th>\n",
       "      <th>Quantitative Finance</th>\n",
       "    </tr>\n",
       "  </thead>\n",
       "  <tbody>\n",
       "    <tr>\n",
       "      <th>0</th>\n",
       "      <td>1</td>\n",
       "      <td>reconstructing subjectspecific effect maps</td>\n",
       "      <td>predictive models allow subjectspecific infere...</td>\n",
       "      <td>1</td>\n",
       "      <td>0</td>\n",
       "      <td>0</td>\n",
       "      <td>0</td>\n",
       "      <td>0</td>\n",
       "      <td>0</td>\n",
       "    </tr>\n",
       "    <tr>\n",
       "      <th>1</th>\n",
       "      <td>2</td>\n",
       "      <td>rotation invariance neural network</td>\n",
       "      <td>rotation invariance and translation invariance...</td>\n",
       "      <td>1</td>\n",
       "      <td>0</td>\n",
       "      <td>0</td>\n",
       "      <td>0</td>\n",
       "      <td>0</td>\n",
       "      <td>0</td>\n",
       "    </tr>\n",
       "    <tr>\n",
       "      <th>2</th>\n",
       "      <td>3</td>\n",
       "      <td>spherical polyharmonics and poisson kernels fo...</td>\n",
       "      <td>we introduce and develop the notion of spheric...</td>\n",
       "      <td>0</td>\n",
       "      <td>0</td>\n",
       "      <td>1</td>\n",
       "      <td>0</td>\n",
       "      <td>0</td>\n",
       "      <td>0</td>\n",
       "    </tr>\n",
       "    <tr>\n",
       "      <th>3</th>\n",
       "      <td>4</td>\n",
       "      <td>a finite element approximation for the stochas...</td>\n",
       "      <td>the stochastic landaulifshitzgilbert llg equat...</td>\n",
       "      <td>0</td>\n",
       "      <td>0</td>\n",
       "      <td>1</td>\n",
       "      <td>0</td>\n",
       "      <td>0</td>\n",
       "      <td>0</td>\n",
       "    </tr>\n",
       "    <tr>\n",
       "      <th>4</th>\n",
       "      <td>5</td>\n",
       "      <td>comparative study of discrete wavelet transfor...</td>\n",
       "      <td>fouriertransform infrared ftir spectra of samp...</td>\n",
       "      <td>1</td>\n",
       "      <td>0</td>\n",
       "      <td>0</td>\n",
       "      <td>1</td>\n",
       "      <td>0</td>\n",
       "      <td>0</td>\n",
       "    </tr>\n",
       "  </tbody>\n",
       "</table>\n",
       "</div>"
      ],
      "text/plain": [
       "   ID                                              TITLE  \\\n",
       "0   1         reconstructing subjectspecific effect maps   \n",
       "1   2                 rotation invariance neural network   \n",
       "2   3  spherical polyharmonics and poisson kernels fo...   \n",
       "3   4  a finite element approximation for the stochas...   \n",
       "4   5  comparative study of discrete wavelet transfor...   \n",
       "\n",
       "                                            ABSTRACT  Computer Science  \\\n",
       "0  predictive models allow subjectspecific infere...                 1   \n",
       "1  rotation invariance and translation invariance...                 1   \n",
       "2  we introduce and develop the notion of spheric...                 0   \n",
       "3  the stochastic landaulifshitzgilbert llg equat...                 0   \n",
       "4  fouriertransform infrared ftir spectra of samp...                 1   \n",
       "\n",
       "   Physics  Mathematics  Statistics  Quantitative Biology  \\\n",
       "0        0            0           0                     0   \n",
       "1        0            0           0                     0   \n",
       "2        0            1           0                     0   \n",
       "3        0            1           0                     0   \n",
       "4        0            0           1                     0   \n",
       "\n",
       "   Quantitative Finance  \n",
       "0                     0  \n",
       "1                     0  \n",
       "2                     0  \n",
       "3                     0  \n",
       "4                     0  "
      ]
     },
     "execution_count": 14,
     "metadata": {},
     "output_type": "execute_result"
    }
   ],
   "source": [
    "train.head()"
   ]
  },
  {
   "cell_type": "code",
   "execution_count": 15,
   "metadata": {
    "colab": {
     "base_uri": "https://localhost:8080/",
     "height": 136
    },
    "colab_type": "code",
    "executionInfo": {
     "elapsed": 1896,
     "status": "ok",
     "timestamp": 1597974723031,
     "user": {
      "displayName": "Shresth Mishra",
      "photoUrl": "https://lh3.googleusercontent.com/a-/AOh14GiG4dS6pwP0ggA9D6IMkt6dF2KN6CWr1N3rfycxRA=s64",
      "userId": "10439759721564897816"
     },
     "user_tz": -330
    },
    "id": "mAOjbSyMm2yJ",
    "outputId": "60f42644-595d-4b46-93a3-e29af892ef4d"
   },
   "outputs": [
    {
     "name": "stderr",
     "output_type": "stream",
     "text": [
      "[nltk_data] Downloading package stopwords to\n",
      "[nltk_data]     C:\\Users\\Niraj\\AppData\\Roaming\\nltk_data...\n",
      "[nltk_data]   Package stopwords is already up-to-date!\n",
      "[nltk_data] Downloading package punkt to\n",
      "[nltk_data]     C:\\Users\\Niraj\\AppData\\Roaming\\nltk_data...\n",
      "[nltk_data]   Package punkt is already up-to-date!\n",
      "[nltk_data] Downloading package wordnet to\n",
      "[nltk_data]     C:\\Users\\Niraj\\AppData\\Roaming\\nltk_data...\n",
      "[nltk_data]   Package wordnet is already up-to-date!\n"
     ]
    },
    {
     "data": {
      "text/plain": [
       "True"
      ]
     },
     "execution_count": 15,
     "metadata": {},
     "output_type": "execute_result"
    }
   ],
   "source": [
    "import nltk\n",
    "nltk.download('stopwords')\n",
    "nltk.download('punkt')\n",
    "nltk.download('wordnet')"
   ]
  },
  {
   "cell_type": "code",
   "execution_count": 16,
   "metadata": {
    "colab": {},
    "colab_type": "code",
    "executionInfo": {
     "elapsed": 803,
     "status": "ok",
     "timestamp": 1597974723772,
     "user": {
      "displayName": "Shresth Mishra",
      "photoUrl": "https://lh3.googleusercontent.com/a-/AOh14GiG4dS6pwP0ggA9D6IMkt6dF2KN6CWr1N3rfycxRA=s64",
      "userId": "10439759721564897816"
     },
     "user_tz": -330
    },
    "id": "eXht87--m2yR"
   },
   "outputs": [],
   "source": [
    "from nltk.corpus import stopwords\n",
    "from nltk.tokenize import word_tokenize \n",
    "from nltk.stem import PorterStemmer"
   ]
  },
  {
   "cell_type": "code",
   "execution_count": 17,
   "metadata": {
    "colab": {},
    "colab_type": "code",
    "executionInfo": {
     "elapsed": 36000,
     "status": "ok",
     "timestamp": 1597976681250,
     "user": {
      "displayName": "Shresth Mishra",
      "photoUrl": "https://lh3.googleusercontent.com/a-/AOh14GiG4dS6pwP0ggA9D6IMkt6dF2KN6CWr1N3rfycxRA=s64",
      "userId": "10439759721564897816"
     },
     "user_tz": -330
    },
    "id": "v5W_-jx0m2yW"
   },
   "outputs": [],
   "source": [
    "stop_words = set(stopwords.words('english'))\n",
    "from nltk.stem import WordNetLemmatizer\n",
    "lemmatizer=WordNetLemmatizer()\n",
    "def token(text):\n",
    "    tokens = word_tokenize(text)\n",
    "    result = [i for i in tokens if not i in stop_words]\n",
    "    final=''\n",
    "    for word in result:\n",
    "        final=final +' ' +(lemmatizer.lemmatize(word))\n",
    "    return final\n",
    "train[\"TITLE\"] = train['TITLE'].apply(lambda x :token(x))\n",
    "train[\"ABSTRACT\"] = train['ABSTRACT'].apply(lambda x :token(x))\n",
    "test[\"TITLE\"] = test['TITLE'].apply(lambda x :token(x))\n",
    "test[\"ABSTRACT\"] = test['ABSTRACT'].apply(lambda x :token(x))"
   ]
  },
  {
   "cell_type": "code",
   "execution_count": 18,
   "metadata": {
    "colab": {
     "base_uri": "https://localhost:8080/",
     "height": 204
    },
    "colab_type": "code",
    "executionInfo": {
     "elapsed": 35667,
     "status": "ok",
     "timestamp": 1597976681251,
     "user": {
      "displayName": "Shresth Mishra",
      "photoUrl": "https://lh3.googleusercontent.com/a-/AOh14GiG4dS6pwP0ggA9D6IMkt6dF2KN6CWr1N3rfycxRA=s64",
      "userId": "10439759721564897816"
     },
     "user_tz": -330
    },
    "id": "5_wk-1kCm2yd",
    "outputId": "e5434592-a2eb-4e34-b42d-7cfe267c8a53"
   },
   "outputs": [
    {
     "data": {
      "text/html": [
       "<div>\n",
       "<style scoped>\n",
       "    .dataframe tbody tr th:only-of-type {\n",
       "        vertical-align: middle;\n",
       "    }\n",
       "\n",
       "    .dataframe tbody tr th {\n",
       "        vertical-align: top;\n",
       "    }\n",
       "\n",
       "    .dataframe thead th {\n",
       "        text-align: right;\n",
       "    }\n",
       "</style>\n",
       "<table border=\"1\" class=\"dataframe\">\n",
       "  <thead>\n",
       "    <tr style=\"text-align: right;\">\n",
       "      <th></th>\n",
       "      <th>ID</th>\n",
       "      <th>TITLE</th>\n",
       "      <th>ABSTRACT</th>\n",
       "      <th>Computer Science</th>\n",
       "      <th>Physics</th>\n",
       "      <th>Mathematics</th>\n",
       "      <th>Statistics</th>\n",
       "      <th>Quantitative Biology</th>\n",
       "      <th>Quantitative Finance</th>\n",
       "    </tr>\n",
       "  </thead>\n",
       "  <tbody>\n",
       "    <tr>\n",
       "      <th>0</th>\n",
       "      <td>1</td>\n",
       "      <td>reconstructing subjectspecific effect map</td>\n",
       "      <td>predictive model allow subjectspecific infere...</td>\n",
       "      <td>1</td>\n",
       "      <td>0</td>\n",
       "      <td>0</td>\n",
       "      <td>0</td>\n",
       "      <td>0</td>\n",
       "      <td>0</td>\n",
       "    </tr>\n",
       "    <tr>\n",
       "      <th>1</th>\n",
       "      <td>2</td>\n",
       "      <td>rotation invariance neural network</td>\n",
       "      <td>rotation invariance translation invariance gr...</td>\n",
       "      <td>1</td>\n",
       "      <td>0</td>\n",
       "      <td>0</td>\n",
       "      <td>0</td>\n",
       "      <td>0</td>\n",
       "      <td>0</td>\n",
       "    </tr>\n",
       "    <tr>\n",
       "      <th>2</th>\n",
       "      <td>3</td>\n",
       "      <td>spherical polyharmonics poisson kernel polyha...</td>\n",
       "      <td>introduce develop notion spherical polyharmon...</td>\n",
       "      <td>0</td>\n",
       "      <td>0</td>\n",
       "      <td>1</td>\n",
       "      <td>0</td>\n",
       "      <td>0</td>\n",
       "      <td>0</td>\n",
       "    </tr>\n",
       "    <tr>\n",
       "      <th>3</th>\n",
       "      <td>4</td>\n",
       "      <td>finite element approximation stochastic maxwe...</td>\n",
       "      <td>stochastic landaulifshitzgilbert llg equation...</td>\n",
       "      <td>0</td>\n",
       "      <td>0</td>\n",
       "      <td>1</td>\n",
       "      <td>0</td>\n",
       "      <td>0</td>\n",
       "      <td>0</td>\n",
       "    </tr>\n",
       "    <tr>\n",
       "      <th>4</th>\n",
       "      <td>5</td>\n",
       "      <td>comparative study discrete wavelet transforms...</td>\n",
       "      <td>fouriertransform infrared ftir spectrum sampl...</td>\n",
       "      <td>1</td>\n",
       "      <td>0</td>\n",
       "      <td>0</td>\n",
       "      <td>1</td>\n",
       "      <td>0</td>\n",
       "      <td>0</td>\n",
       "    </tr>\n",
       "  </tbody>\n",
       "</table>\n",
       "</div>"
      ],
      "text/plain": [
       "   ID                                              TITLE  \\\n",
       "0   1          reconstructing subjectspecific effect map   \n",
       "1   2                 rotation invariance neural network   \n",
       "2   3   spherical polyharmonics poisson kernel polyha...   \n",
       "3   4   finite element approximation stochastic maxwe...   \n",
       "4   5   comparative study discrete wavelet transforms...   \n",
       "\n",
       "                                            ABSTRACT  Computer Science  \\\n",
       "0   predictive model allow subjectspecific infere...                 1   \n",
       "1   rotation invariance translation invariance gr...                 1   \n",
       "2   introduce develop notion spherical polyharmon...                 0   \n",
       "3   stochastic landaulifshitzgilbert llg equation...                 0   \n",
       "4   fouriertransform infrared ftir spectrum sampl...                 1   \n",
       "\n",
       "   Physics  Mathematics  Statistics  Quantitative Biology  \\\n",
       "0        0            0           0                     0   \n",
       "1        0            0           0                     0   \n",
       "2        0            1           0                     0   \n",
       "3        0            1           0                     0   \n",
       "4        0            0           1                     0   \n",
       "\n",
       "   Quantitative Finance  \n",
       "0                     0  \n",
       "1                     0  \n",
       "2                     0  \n",
       "3                     0  \n",
       "4                     0  "
      ]
     },
     "execution_count": 18,
     "metadata": {},
     "output_type": "execute_result"
    }
   ],
   "source": [
    "train.head()"
   ]
  },
  {
   "cell_type": "code",
   "execution_count": 19,
   "metadata": {
    "colab": {
     "base_uri": "https://localhost:8080/",
     "height": 68
    },
    "colab_type": "code",
    "executionInfo": {
     "elapsed": 35467,
     "status": "ok",
     "timestamp": 1597976681253,
     "user": {
      "displayName": "Shresth Mishra",
      "photoUrl": "https://lh3.googleusercontent.com/a-/AOh14GiG4dS6pwP0ggA9D6IMkt6dF2KN6CWr1N3rfycxRA=s64",
      "userId": "10439759721564897816"
     },
     "user_tz": -330
    },
    "id": "fw-uswgjm2yj",
    "outputId": "eff5e0ea-c4ad-41d2-b24e-bda058f776dd"
   },
   "outputs": [
    {
     "data": {
      "text/plain": [
       "Index(['ID', 'TITLE', 'ABSTRACT', 'Computer Science', 'Physics', 'Mathematics',\n",
       "       'Statistics', 'Quantitative Biology', 'Quantitative Finance'],\n",
       "      dtype='object')"
      ]
     },
     "execution_count": 19,
     "metadata": {},
     "output_type": "execute_result"
    }
   ],
   "source": [
    "train.columns"
   ]
  },
  {
   "cell_type": "code",
   "execution_count": 20,
   "metadata": {
    "colab": {},
    "colab_type": "code",
    "executionInfo": {
     "elapsed": 35303,
     "status": "ok",
     "timestamp": 1597976681255,
     "user": {
      "displayName": "Shresth Mishra",
      "photoUrl": "https://lh3.googleusercontent.com/a-/AOh14GiG4dS6pwP0ggA9D6IMkt6dF2KN6CWr1N3rfycxRA=s64",
      "userId": "10439759721564897816"
     },
     "user_tz": -330
    },
    "id": "yM-Hnenqm2yq"
   },
   "outputs": [],
   "source": [
    "test.head()\n",
    "test1=test.drop(['ID'],axis=1)\n",
    "test1=test1['TITLE']+' '+test1['ABSTRACT']\n",
    "for s in test1:\n",
    "    l = s.split() \n",
    "    k = [] \n",
    "    for i in l: # If condition is used to store unique string  # in another list 'k'  \n",
    "        if (s.count(i)>1 and (i not in k)or s.count(i)==1): \n",
    "            k.append(i) \n",
    "    s=' '.join(k)"
   ]
  },
  {
   "cell_type": "code",
   "execution_count": 21,
   "metadata": {
    "colab": {},
    "colab_type": "code",
    "executionInfo": {
     "elapsed": 35150,
     "status": "ok",
     "timestamp": 1597976681255,
     "user": {
      "displayName": "Shresth Mishra",
      "photoUrl": "https://lh3.googleusercontent.com/a-/AOh14GiG4dS6pwP0ggA9D6IMkt6dF2KN6CWr1N3rfycxRA=s64",
      "userId": "10439759721564897816"
     },
     "user_tz": -330
    },
    "id": "HrYHELG_m2yx"
   },
   "outputs": [],
   "source": [
    "X=train.drop(['ID','Computer Science', 'Physics', 'Mathematics',\n",
    "       'Statistics', 'Quantitative Biology', 'Quantitative Finance'],axis=1)\n",
    "y=train['Computer Science']"
   ]
  },
  {
   "cell_type": "code",
   "execution_count": 22,
   "metadata": {
    "colab": {
     "base_uri": "https://localhost:8080/",
     "height": 204
    },
    "colab_type": "code",
    "executionInfo": {
     "elapsed": 34952,
     "status": "ok",
     "timestamp": 1597976681257,
     "user": {
      "displayName": "Shresth Mishra",
      "photoUrl": "https://lh3.googleusercontent.com/a-/AOh14GiG4dS6pwP0ggA9D6IMkt6dF2KN6CWr1N3rfycxRA=s64",
      "userId": "10439759721564897816"
     },
     "user_tz": -330
    },
    "id": "Kkt3zKoQwI5q",
    "outputId": "261e8e21-aa6d-4763-e75a-3e46eaf5cfad"
   },
   "outputs": [
    {
     "data": {
      "text/html": [
       "<div>\n",
       "<style scoped>\n",
       "    .dataframe tbody tr th:only-of-type {\n",
       "        vertical-align: middle;\n",
       "    }\n",
       "\n",
       "    .dataframe tbody tr th {\n",
       "        vertical-align: top;\n",
       "    }\n",
       "\n",
       "    .dataframe thead th {\n",
       "        text-align: right;\n",
       "    }\n",
       "</style>\n",
       "<table border=\"1\" class=\"dataframe\">\n",
       "  <thead>\n",
       "    <tr style=\"text-align: right;\">\n",
       "      <th></th>\n",
       "      <th>TITLE</th>\n",
       "      <th>ABSTRACT</th>\n",
       "    </tr>\n",
       "  </thead>\n",
       "  <tbody>\n",
       "    <tr>\n",
       "      <th>0</th>\n",
       "      <td>reconstructing subjectspecific effect map</td>\n",
       "      <td>predictive model allow subjectspecific infere...</td>\n",
       "    </tr>\n",
       "    <tr>\n",
       "      <th>1</th>\n",
       "      <td>rotation invariance neural network</td>\n",
       "      <td>rotation invariance translation invariance gr...</td>\n",
       "    </tr>\n",
       "    <tr>\n",
       "      <th>2</th>\n",
       "      <td>spherical polyharmonics poisson kernel polyha...</td>\n",
       "      <td>introduce develop notion spherical polyharmon...</td>\n",
       "    </tr>\n",
       "    <tr>\n",
       "      <th>3</th>\n",
       "      <td>finite element approximation stochastic maxwe...</td>\n",
       "      <td>stochastic landaulifshitzgilbert llg equation...</td>\n",
       "    </tr>\n",
       "    <tr>\n",
       "      <th>4</th>\n",
       "      <td>comparative study discrete wavelet transforms...</td>\n",
       "      <td>fouriertransform infrared ftir spectrum sampl...</td>\n",
       "    </tr>\n",
       "  </tbody>\n",
       "</table>\n",
       "</div>"
      ],
      "text/plain": [
       "                                               TITLE  \\\n",
       "0          reconstructing subjectspecific effect map   \n",
       "1                 rotation invariance neural network   \n",
       "2   spherical polyharmonics poisson kernel polyha...   \n",
       "3   finite element approximation stochastic maxwe...   \n",
       "4   comparative study discrete wavelet transforms...   \n",
       "\n",
       "                                            ABSTRACT  \n",
       "0   predictive model allow subjectspecific infere...  \n",
       "1   rotation invariance translation invariance gr...  \n",
       "2   introduce develop notion spherical polyharmon...  \n",
       "3   stochastic landaulifshitzgilbert llg equation...  \n",
       "4   fouriertransform infrared ftir spectrum sampl...  "
      ]
     },
     "execution_count": 22,
     "metadata": {},
     "output_type": "execute_result"
    }
   ],
   "source": [
    "X.head()"
   ]
  },
  {
   "cell_type": "code",
   "execution_count": 23,
   "metadata": {
    "colab": {},
    "colab_type": "code",
    "executionInfo": {
     "elapsed": 34729,
     "status": "ok",
     "timestamp": 1597976681258,
     "user": {
      "displayName": "Shresth Mishra",
      "photoUrl": "https://lh3.googleusercontent.com/a-/AOh14GiG4dS6pwP0ggA9D6IMkt6dF2KN6CWr1N3rfycxRA=s64",
      "userId": "10439759721564897816"
     },
     "user_tz": -330
    },
    "id": "f3snDIEYm2y2"
   },
   "outputs": [],
   "source": [
    "\n",
    "from sklearn import tree\n",
    "from sklearn.ensemble import BaggingClassifier,GradientBoostingClassifier,RandomForestClassifier\n",
    "from sklearn.neighbors import KNeighborsClassifier\n",
    "from sklearn.linear_model import RidgeClassifier\n",
    "from sklearn.pipeline import Pipeline\n",
    "from sklearn import metrics\n",
    "from sklearn.feature_extraction.text import TfidfVectorizer,CountVectorizer\n",
    "from sklearn.feature_extraction.text import TfidfTransformer\n",
    "from xgboost.sklearn import XGBClassifier\n",
    "\n",
    "text_clf = Pipeline([('vect', CountVectorizer()),\n",
    "                     ('tfidf', TfidfTransformer()),\n",
    "                     ('clf',   RidgeClassifier(alpha=1.4, max_iter=1000)), #'clf', RandomForestClassifier(n_estimators=350,verbose=2)\n",
    "                     ])"
   ]
  },
  {
   "cell_type": "code",
   "execution_count": 24,
   "metadata": {
    "colab": {},
    "colab_type": "code",
    "executionInfo": {
     "elapsed": 34474,
     "status": "ok",
     "timestamp": 1597976681259,
     "user": {
      "displayName": "Shresth Mishra",
      "photoUrl": "https://lh3.googleusercontent.com/a-/AOh14GiG4dS6pwP0ggA9D6IMkt6dF2KN6CWr1N3rfycxRA=s64",
      "userId": "10439759721564897816"
     },
     "user_tz": -330
    },
    "id": "1oMrHmrwm2y9"
   },
   "outputs": [],
   "source": [
    "X=X['TITLE']+ ' ' +X['ABSTRACT']\n",
    "for s in X:\n",
    "    l = s.split() \n",
    "    k = [] \n",
    "    for i in l: # If condition is used to store unique string  # in another list 'k'  \n",
    "        if (s.count(i)>1 and (i not in k)or s.count(i)==1): \n",
    "            k.append(i) \n",
    "    s=' '.join(k)"
   ]
  },
  {
   "cell_type": "code",
   "execution_count": 25,
   "metadata": {},
   "outputs": [
    {
     "data": {
      "text/plain": [
       "0         reconstructing subjectspecific effect map  pr...\n",
       "1         rotation invariance neural network  rotation ...\n",
       "2         spherical polyharmonics poisson kernel polyha...\n",
       "3         finite element approximation stochastic maxwe...\n",
       "4         comparative study discrete wavelet transforms...\n",
       "                               ...                        \n",
       "20967     contemporary machine learning guide practitio...\n",
       "20968     uniform diamond coating wcco hard alloy cutti...\n",
       "20969     analysing soccer game clustering conceptors  ...\n",
       "20970     efficient simulation lefttail sum correlated ...\n",
       "20971     optional stopping problem bayesians  recently...\n",
       "Length: 20972, dtype: object"
      ]
     },
     "execution_count": 25,
     "metadata": {},
     "output_type": "execute_result"
    }
   ],
   "source": [
    "X"
   ]
  },
  {
   "cell_type": "code",
   "execution_count": 26,
   "metadata": {
    "colab": {
     "base_uri": "https://localhost:8080/",
     "height": 119
    },
    "colab_type": "code",
    "executionInfo": {
     "elapsed": 34343,
     "status": "ok",
     "timestamp": 1597976681261,
     "user": {
      "displayName": "Shresth Mishra",
      "photoUrl": "https://lh3.googleusercontent.com/a-/AOh14GiG4dS6pwP0ggA9D6IMkt6dF2KN6CWr1N3rfycxRA=s64",
      "userId": "10439759721564897816"
     },
     "user_tz": -330
    },
    "id": "n0HR6Ul3m2zC",
    "outputId": "f48b4321-19f2-425a-82af-f97673d343a7"
   },
   "outputs": [
    {
     "data": {
      "text/plain": [
       "0     reconstructing subjectspecific effect map  pr...\n",
       "1     rotation invariance neural network  rotation ...\n",
       "2     spherical polyharmonics poisson kernel polyha...\n",
       "3     finite element approximation stochastic maxwe...\n",
       "4     comparative study discrete wavelet transforms...\n",
       "dtype: object"
      ]
     },
     "execution_count": 26,
     "metadata": {},
     "output_type": "execute_result"
    }
   ],
   "source": [
    "X.head()"
   ]
  },
  {
   "cell_type": "code",
   "execution_count": 27,
   "metadata": {
    "colab": {
     "base_uri": "https://localhost:8080/",
     "height": 221
    },
    "colab_type": "code",
    "executionInfo": {
     "elapsed": 34225,
     "status": "ok",
     "timestamp": 1597976681262,
     "user": {
      "displayName": "Shresth Mishra",
      "photoUrl": "https://lh3.googleusercontent.com/a-/AOh14GiG4dS6pwP0ggA9D6IMkt6dF2KN6CWr1N3rfycxRA=s64",
      "userId": "10439759721564897816"
     },
     "user_tz": -330
    },
    "id": "aoERHNPXm2zJ",
    "outputId": "0bf4a05f-8f67-404b-c914-45136ef49554"
   },
   "outputs": [
    {
     "data": {
      "text/plain": [
       "0        1\n",
       "1        1\n",
       "2        0\n",
       "3        0\n",
       "4        1\n",
       "        ..\n",
       "20967    1\n",
       "20968    0\n",
       "20969    1\n",
       "20970    0\n",
       "20971    0\n",
       "Name: Computer Science, Length: 20972, dtype: int64"
      ]
     },
     "execution_count": 27,
     "metadata": {},
     "output_type": "execute_result"
    }
   ],
   "source": [
    "y"
   ]
  },
  {
   "cell_type": "code",
   "execution_count": 28,
   "metadata": {
    "colab": {
     "base_uri": "https://localhost:8080/",
     "height": 357
    },
    "colab_type": "code",
    "executionInfo": {
     "elapsed": 41589,
     "status": "ok",
     "timestamp": 1597976690098,
     "user": {
      "displayName": "Shresth Mishra",
      "photoUrl": "https://lh3.googleusercontent.com/a-/AOh14GiG4dS6pwP0ggA9D6IMkt6dF2KN6CWr1N3rfycxRA=s64",
      "userId": "10439759721564897816"
     },
     "user_tz": -330
    },
    "id": "okYXPLlRm2zU",
    "outputId": "5d940a95-0d6a-4702-8c1a-a10f0d89f4b1"
   },
   "outputs": [
    {
     "data": {
      "text/plain": [
       "Pipeline(steps=[('vect', CountVectorizer()),\n",
       "                ('clf', MultinomialNB(alpha=0.01))])"
      ]
     },
     "execution_count": 28,
     "metadata": {},
     "output_type": "execute_result"
    }
   ],
   "source": [
    "from sklearn.model_selection import train_test_split\n",
    "from sklearn.metrics import accuracy_score,f1_score\n",
    "\n",
    "X_train, X_test, y_train, y_test = train_test_split(X, y, test_size=0.2)\n",
    "text_clf.fit(X_train,y_train)"
   ]
  },
  {
   "cell_type": "code",
   "execution_count": 29,
   "metadata": {
    "colab": {},
    "colab_type": "code",
    "executionInfo": {
     "elapsed": 40216,
     "status": "ok",
     "timestamp": 1597976690102,
     "user": {
      "displayName": "Shresth Mishra",
      "photoUrl": "https://lh3.googleusercontent.com/a-/AOh14GiG4dS6pwP0ggA9D6IMkt6dF2KN6CWr1N3rfycxRA=s64",
      "userId": "10439759721564897816"
     },
     "user_tz": -330
    },
    "id": "vOMZ5YSWm2zg"
   },
   "outputs": [],
   "source": [
    "predicted = text_clf.predict(X_test)\n"
   ]
  },
  {
   "cell_type": "code",
   "execution_count": 30,
   "metadata": {
    "colab": {
     "base_uri": "https://localhost:8080/",
     "height": 170
    },
    "colab_type": "code",
    "executionInfo": {
     "elapsed": 39366,
     "status": "ok",
     "timestamp": 1597976690105,
     "user": {
      "displayName": "Shresth Mishra",
      "photoUrl": "https://lh3.googleusercontent.com/a-/AOh14GiG4dS6pwP0ggA9D6IMkt6dF2KN6CWr1N3rfycxRA=s64",
      "userId": "10439759721564897816"
     },
     "user_tz": -330
    },
    "id": "6c5ETLp8m2zn",
    "outputId": "6bab174a-68c6-41ed-fe8b-f2140752cb57",
    "scrolled": false
   },
   "outputs": [
    {
     "name": "stdout",
     "output_type": "stream",
     "text": [
      "              precision    recall  f1-score   support\n",
      "\n",
      "           0       0.93      0.83      0.88      2520\n",
      "           1       0.78      0.91      0.84      1675\n",
      "\n",
      "    accuracy                           0.86      4195\n",
      "   macro avg       0.86      0.87      0.86      4195\n",
      "weighted avg       0.87      0.86      0.86      4195\n",
      "\n"
     ]
    }
   ],
   "source": [
    "from sklearn import metrics\n",
    "print(metrics.classification_report(y_test, predicted))"
   ]
  },
  {
   "cell_type": "code",
   "execution_count": 31,
   "metadata": {
    "colab": {
     "base_uri": "https://localhost:8080/",
     "height": 34
    },
    "colab_type": "code",
    "executionInfo": {
     "elapsed": 38664,
     "status": "ok",
     "timestamp": 1597976690109,
     "user": {
      "displayName": "Shresth Mishra",
      "photoUrl": "https://lh3.googleusercontent.com/a-/AOh14GiG4dS6pwP0ggA9D6IMkt6dF2KN6CWr1N3rfycxRA=s64",
      "userId": "10439759721564897816"
     },
     "user_tz": -330
    },
    "id": "jhiPFiiMm2zv",
    "outputId": "fd5db012-03d3-484b-ea13-44cfb0015365",
    "scrolled": true
   },
   "outputs": [
    {
     "name": "stdout",
     "output_type": "stream",
     "text": [
      "Accuracy: 86.25%\n"
     ]
    }
   ],
   "source": [
    "accuracy = accuracy_score(y_test, predicted)\n",
    "print(\"Accuracy: %.2f%%\" % (accuracy * 100.0))"
   ]
  },
  {
   "cell_type": "code",
   "execution_count": 32,
   "metadata": {
    "colab": {},
    "colab_type": "code",
    "executionInfo": {
     "elapsed": 49496,
     "status": "ok",
     "timestamp": 1597976701991,
     "user": {
      "displayName": "Shresth Mishra",
      "photoUrl": "https://lh3.googleusercontent.com/a-/AOh14GiG4dS6pwP0ggA9D6IMkt6dF2KN6CWr1N3rfycxRA=s64",
      "userId": "10439759721564897816"
     },
     "user_tz": -330
    },
    "id": "RZgb7YQEm2z2"
   },
   "outputs": [],
   "source": [
    "text_clf.fit(X,y)\n",
    "test_predit=text_clf.predict(test1)"
   ]
  },
  {
   "cell_type": "code",
   "execution_count": null,
   "metadata": {
    "colab": {},
    "colab_type": "code",
    "executionInfo": {
     "elapsed": 47564,
     "status": "ok",
     "timestamp": 1597976701993,
     "user": {
      "displayName": "Shresth Mishra",
      "photoUrl": "https://lh3.googleusercontent.com/a-/AOh14GiG4dS6pwP0ggA9D6IMkt6dF2KN6CWr1N3rfycxRA=s64",
      "userId": "10439759721564897816"
     },
     "user_tz": -330
    },
    "id": "zhdTDt9ym2z8"
   },
   "outputs": [],
   "source": []
  },
  {
   "cell_type": "code",
   "execution_count": 33,
   "metadata": {
    "colab": {},
    "colab_type": "code",
    "executionInfo": {
     "elapsed": 46089,
     "status": "ok",
     "timestamp": 1597976701993,
     "user": {
      "displayName": "Shresth Mishra",
      "photoUrl": "https://lh3.googleusercontent.com/a-/AOh14GiG4dS6pwP0ggA9D6IMkt6dF2KN6CWr1N3rfycxRA=s64",
      "userId": "10439759721564897816"
     },
     "user_tz": -330
    },
    "id": "wj2_y97qm20B"
   },
   "outputs": [
    {
     "data": {
      "text/html": [
       "<div>\n",
       "<style scoped>\n",
       "    .dataframe tbody tr th:only-of-type {\n",
       "        vertical-align: middle;\n",
       "    }\n",
       "\n",
       "    .dataframe tbody tr th {\n",
       "        vertical-align: top;\n",
       "    }\n",
       "\n",
       "    .dataframe thead th {\n",
       "        text-align: right;\n",
       "    }\n",
       "</style>\n",
       "<table border=\"1\" class=\"dataframe\">\n",
       "  <thead>\n",
       "    <tr style=\"text-align: right;\">\n",
       "      <th></th>\n",
       "      <th>ID</th>\n",
       "      <th>Computer Science</th>\n",
       "    </tr>\n",
       "  </thead>\n",
       "  <tbody>\n",
       "    <tr>\n",
       "      <th>0</th>\n",
       "      <td>20973</td>\n",
       "      <td>1</td>\n",
       "    </tr>\n",
       "    <tr>\n",
       "      <th>1</th>\n",
       "      <td>20974</td>\n",
       "      <td>0</td>\n",
       "    </tr>\n",
       "    <tr>\n",
       "      <th>2</th>\n",
       "      <td>20975</td>\n",
       "      <td>1</td>\n",
       "    </tr>\n",
       "    <tr>\n",
       "      <th>3</th>\n",
       "      <td>20976</td>\n",
       "      <td>0</td>\n",
       "    </tr>\n",
       "    <tr>\n",
       "      <th>4</th>\n",
       "      <td>20977</td>\n",
       "      <td>1</td>\n",
       "    </tr>\n",
       "  </tbody>\n",
       "</table>\n",
       "</div>"
      ],
      "text/plain": [
       "      ID  Computer Science\n",
       "0  20973                 1\n",
       "1  20974                 0\n",
       "2  20975                 1\n",
       "3  20976                 0\n",
       "4  20977                 1"
      ]
     },
     "execution_count": 33,
     "metadata": {},
     "output_type": "execute_result"
    }
   ],
   "source": [
    "final=pd.DataFrame()\n",
    "final['ID']=test['ID']\n",
    "final['Computer Science']=test_predit\n",
    "final.head()"
   ]
  },
  {
   "cell_type": "code",
   "execution_count": 34,
   "metadata": {
    "colab": {
     "base_uri": "https://localhost:8080/",
     "height": 34
    },
    "colab_type": "code",
    "executionInfo": {
     "elapsed": 11557,
     "status": "ok",
     "timestamp": 1597976724791,
     "user": {
      "displayName": "Shresth Mishra",
      "photoUrl": "https://lh3.googleusercontent.com/a-/AOh14GiG4dS6pwP0ggA9D6IMkt6dF2KN6CWr1N3rfycxRA=s64",
      "userId": "10439759721564897816"
     },
     "user_tz": -330
    },
    "id": "RUcja4kYm20G",
    "outputId": "41d707e1-72b4-4522-ebc1-9fb7a303221c"
   },
   "outputs": [
    {
     "name": "stdout",
     "output_type": "stream",
     "text": [
      "Accuracy: 93.95%\n"
     ]
    }
   ],
   "source": [
    "X=train.drop(['ID','Computer Science', 'Physics', 'Mathematics',\n",
    "       'Statistics', 'Quantitative Biology', 'Quantitative Finance'],axis=1)\n",
    "y=train['Physics']\n",
    "text_clf = Pipeline([('vect', CountVectorizer()),\n",
    "                     ('tfidf', TfidfTransformer()),\n",
    "                     ('clf',  RidgeClassifier( max_iter=10000)), #'clf', RandomForestClassifier(n_estimators=350,verbose=2)\n",
    "                     ])\n",
    "X=X['TITLE']+ ' ' +X['ABSTRACT']\n",
    "X_train, X_test, y_train, y_test = train_test_split(X, y, test_size=0.2)\n",
    "text_clf.fit(X_train,y_train)\n",
    "predicted = text_clf.predict(X_test)\n",
    "accuracy = accuracy_score(y_test, predicted)\n",
    "print(\"Accuracy: %.2f%%\" % (accuracy * 100.0))"
   ]
  },
  {
   "cell_type": "code",
   "execution_count": 35,
   "metadata": {
    "colab": {},
    "colab_type": "code",
    "executionInfo": {
     "elapsed": 13726,
     "status": "ok",
     "timestamp": 1597976743120,
     "user": {
      "displayName": "Shresth Mishra",
      "photoUrl": "https://lh3.googleusercontent.com/a-/AOh14GiG4dS6pwP0ggA9D6IMkt6dF2KN6CWr1N3rfycxRA=s64",
      "userId": "10439759721564897816"
     },
     "user_tz": -330
    },
    "id": "Y8pTpZhim20O"
   },
   "outputs": [],
   "source": [
    "text_clf.fit(X,y)\n",
    "test_predit=text_clf.predict(test1)"
   ]
  },
  {
   "cell_type": "code",
   "execution_count": 36,
   "metadata": {
    "colab": {},
    "colab_type": "code",
    "executionInfo": {
     "elapsed": 1499,
     "status": "ok",
     "timestamp": 1597976745699,
     "user": {
      "displayName": "Shresth Mishra",
      "photoUrl": "https://lh3.googleusercontent.com/a-/AOh14GiG4dS6pwP0ggA9D6IMkt6dF2KN6CWr1N3rfycxRA=s64",
      "userId": "10439759721564897816"
     },
     "user_tz": -330
    },
    "id": "8afLYrajm20W"
   },
   "outputs": [],
   "source": [
    "final['Physics']=test_predit"
   ]
  },
  {
   "cell_type": "code",
   "execution_count": 37,
   "metadata": {
    "colab": {
     "base_uri": "https://localhost:8080/",
     "height": 204
    },
    "colab_type": "code",
    "executionInfo": {
     "elapsed": 1770,
     "status": "ok",
     "timestamp": 1597976746501,
     "user": {
      "displayName": "Shresth Mishra",
      "photoUrl": "https://lh3.googleusercontent.com/a-/AOh14GiG4dS6pwP0ggA9D6IMkt6dF2KN6CWr1N3rfycxRA=s64",
      "userId": "10439759721564897816"
     },
     "user_tz": -330
    },
    "id": "gd1AilUgm20a",
    "outputId": "21d22dc6-8ccd-4dbc-e11c-66402e0573c5"
   },
   "outputs": [
    {
     "data": {
      "text/html": [
       "<div>\n",
       "<style scoped>\n",
       "    .dataframe tbody tr th:only-of-type {\n",
       "        vertical-align: middle;\n",
       "    }\n",
       "\n",
       "    .dataframe tbody tr th {\n",
       "        vertical-align: top;\n",
       "    }\n",
       "\n",
       "    .dataframe thead th {\n",
       "        text-align: right;\n",
       "    }\n",
       "</style>\n",
       "<table border=\"1\" class=\"dataframe\">\n",
       "  <thead>\n",
       "    <tr style=\"text-align: right;\">\n",
       "      <th></th>\n",
       "      <th>ID</th>\n",
       "      <th>Computer Science</th>\n",
       "      <th>Physics</th>\n",
       "    </tr>\n",
       "  </thead>\n",
       "  <tbody>\n",
       "    <tr>\n",
       "      <th>0</th>\n",
       "      <td>20973</td>\n",
       "      <td>1</td>\n",
       "      <td>0</td>\n",
       "    </tr>\n",
       "    <tr>\n",
       "      <th>1</th>\n",
       "      <td>20974</td>\n",
       "      <td>0</td>\n",
       "      <td>1</td>\n",
       "    </tr>\n",
       "    <tr>\n",
       "      <th>2</th>\n",
       "      <td>20975</td>\n",
       "      <td>1</td>\n",
       "      <td>0</td>\n",
       "    </tr>\n",
       "    <tr>\n",
       "      <th>3</th>\n",
       "      <td>20976</td>\n",
       "      <td>0</td>\n",
       "      <td>1</td>\n",
       "    </tr>\n",
       "    <tr>\n",
       "      <th>4</th>\n",
       "      <td>20977</td>\n",
       "      <td>1</td>\n",
       "      <td>0</td>\n",
       "    </tr>\n",
       "  </tbody>\n",
       "</table>\n",
       "</div>"
      ],
      "text/plain": [
       "      ID  Computer Science  Physics\n",
       "0  20973                 1        0\n",
       "1  20974                 0        1\n",
       "2  20975                 1        0\n",
       "3  20976                 0        1\n",
       "4  20977                 1        0"
      ]
     },
     "execution_count": 37,
     "metadata": {},
     "output_type": "execute_result"
    }
   ],
   "source": [
    "final.head()"
   ]
  },
  {
   "cell_type": "code",
   "execution_count": 54,
   "metadata": {
    "colab": {
     "base_uri": "https://localhost:8080/",
     "height": 34
    },
    "colab_type": "code",
    "executionInfo": {
     "elapsed": 3488,
     "status": "ok",
     "timestamp": 1597976806186,
     "user": {
      "displayName": "Shresth Mishra",
      "photoUrl": "https://lh3.googleusercontent.com/a-/AOh14GiG4dS6pwP0ggA9D6IMkt6dF2KN6CWr1N3rfycxRA=s64",
      "userId": "10439759721564897816"
     },
     "user_tz": -330
    },
    "id": "Qc0sabfhm20h",
    "outputId": "78f5e134-d3cf-4647-b840-161e565fe9b7"
   },
   "outputs": [
    {
     "name": "stdout",
     "output_type": "stream",
     "text": [
      "Accuracy: 89.51%\n"
     ]
    }
   ],
   "source": [
    "X=train.drop(['ID','Computer Science', 'Physics', 'Mathematics',\n",
    "       'Statistics', 'Quantitative Biology', 'Quantitative Finance'],axis=1)\n",
    "y=train['Mathematics']\n",
    "text_clf = Pipeline([('vect',CountVectorizer()),\n",
    "                     ('tfidf', TfidfTransformer()),\n",
    "                     ('clf',RidgeClassifier(alpha=1.0,max_iter=10000)), #'clf', RandomForestClassifier(n_estimators=350,verbose=2)\n",
    "                     ])\n",
    "X=X['TITLE']+ ' ' +X['ABSTRACT']\n",
    "X_train, X_test, y_train, y_test = train_test_split(X, y, test_size=0.2)\n",
    "text_clf.fit(X_train,y_train)\n",
    "predicted = text_clf.predict(X_test)\n",
    "accuracy = accuracy_score(y_test, predicted)\n",
    "print(\"Accuracy: %.2f%%\" % (accuracy * 100.0))"
   ]
  },
  {
   "cell_type": "code",
   "execution_count": 39,
   "metadata": {
    "colab": {},
    "colab_type": "code",
    "executionInfo": {
     "elapsed": 4787,
     "status": "ok",
     "timestamp": 1597976815171,
     "user": {
      "displayName": "Shresth Mishra",
      "photoUrl": "https://lh3.googleusercontent.com/a-/AOh14GiG4dS6pwP0ggA9D6IMkt6dF2KN6CWr1N3rfycxRA=s64",
      "userId": "10439759721564897816"
     },
     "user_tz": -330
    },
    "id": "axdH5fLom20n"
   },
   "outputs": [],
   "source": [
    "text_clf.fit(X,y)\n",
    "test_predit=text_clf.predict(test1)"
   ]
  },
  {
   "cell_type": "code",
   "execution_count": null,
   "metadata": {
    "colab": {},
    "colab_type": "code",
    "id": "GDmVNTOTm20t"
   },
   "outputs": [],
   "source": []
  },
  {
   "cell_type": "code",
   "execution_count": null,
   "metadata": {
    "colab": {},
    "colab_type": "code",
    "id": "3kTiUGuym201"
   },
   "outputs": [],
   "source": []
  },
  {
   "cell_type": "code",
   "execution_count": 40,
   "metadata": {
    "colab": {},
    "colab_type": "code",
    "executionInfo": {
     "elapsed": 1529,
     "status": "ok",
     "timestamp": 1597976821851,
     "user": {
      "displayName": "Shresth Mishra",
      "photoUrl": "https://lh3.googleusercontent.com/a-/AOh14GiG4dS6pwP0ggA9D6IMkt6dF2KN6CWr1N3rfycxRA=s64",
      "userId": "10439759721564897816"
     },
     "user_tz": -330
    },
    "id": "ktgadAdLm20_"
   },
   "outputs": [],
   "source": [
    "final['Mathematics']=test_predit"
   ]
  },
  {
   "cell_type": "code",
   "execution_count": 41,
   "metadata": {
    "colab": {
     "base_uri": "https://localhost:8080/",
     "height": 204
    },
    "colab_type": "code",
    "executionInfo": {
     "elapsed": 883,
     "status": "ok",
     "timestamp": 1597976821854,
     "user": {
      "displayName": "Shresth Mishra",
      "photoUrl": "https://lh3.googleusercontent.com/a-/AOh14GiG4dS6pwP0ggA9D6IMkt6dF2KN6CWr1N3rfycxRA=s64",
      "userId": "10439759721564897816"
     },
     "user_tz": -330
    },
    "id": "EgBCx8bxm21J",
    "outputId": "05829e09-34ef-4fea-8077-5e7a18abda17"
   },
   "outputs": [
    {
     "data": {
      "text/html": [
       "<div>\n",
       "<style scoped>\n",
       "    .dataframe tbody tr th:only-of-type {\n",
       "        vertical-align: middle;\n",
       "    }\n",
       "\n",
       "    .dataframe tbody tr th {\n",
       "        vertical-align: top;\n",
       "    }\n",
       "\n",
       "    .dataframe thead th {\n",
       "        text-align: right;\n",
       "    }\n",
       "</style>\n",
       "<table border=\"1\" class=\"dataframe\">\n",
       "  <thead>\n",
       "    <tr style=\"text-align: right;\">\n",
       "      <th></th>\n",
       "      <th>ID</th>\n",
       "      <th>Computer Science</th>\n",
       "      <th>Physics</th>\n",
       "      <th>Mathematics</th>\n",
       "    </tr>\n",
       "  </thead>\n",
       "  <tbody>\n",
       "    <tr>\n",
       "      <th>0</th>\n",
       "      <td>20973</td>\n",
       "      <td>1</td>\n",
       "      <td>0</td>\n",
       "      <td>0</td>\n",
       "    </tr>\n",
       "    <tr>\n",
       "      <th>1</th>\n",
       "      <td>20974</td>\n",
       "      <td>0</td>\n",
       "      <td>1</td>\n",
       "      <td>0</td>\n",
       "    </tr>\n",
       "    <tr>\n",
       "      <th>2</th>\n",
       "      <td>20975</td>\n",
       "      <td>1</td>\n",
       "      <td>0</td>\n",
       "      <td>0</td>\n",
       "    </tr>\n",
       "    <tr>\n",
       "      <th>3</th>\n",
       "      <td>20976</td>\n",
       "      <td>0</td>\n",
       "      <td>1</td>\n",
       "      <td>0</td>\n",
       "    </tr>\n",
       "    <tr>\n",
       "      <th>4</th>\n",
       "      <td>20977</td>\n",
       "      <td>1</td>\n",
       "      <td>0</td>\n",
       "      <td>0</td>\n",
       "    </tr>\n",
       "  </tbody>\n",
       "</table>\n",
       "</div>"
      ],
      "text/plain": [
       "      ID  Computer Science  Physics  Mathematics\n",
       "0  20973                 1        0            0\n",
       "1  20974                 0        1            0\n",
       "2  20975                 1        0            0\n",
       "3  20976                 0        1            0\n",
       "4  20977                 1        0            0"
      ]
     },
     "execution_count": 41,
     "metadata": {},
     "output_type": "execute_result"
    }
   ],
   "source": [
    "final.head()"
   ]
  },
  {
   "cell_type": "code",
   "execution_count": 42,
   "metadata": {
    "colab": {
     "base_uri": "https://localhost:8080/",
     "height": 34
    },
    "colab_type": "code",
    "executionInfo": {
     "elapsed": 3707,
     "status": "ok",
     "timestamp": 1597976862035,
     "user": {
      "displayName": "Shresth Mishra",
      "photoUrl": "https://lh3.googleusercontent.com/a-/AOh14GiG4dS6pwP0ggA9D6IMkt6dF2KN6CWr1N3rfycxRA=s64",
      "userId": "10439759721564897816"
     },
     "user_tz": -330
    },
    "id": "V7_BMBPgm21S",
    "outputId": "7de00ac4-f7c2-4b50-924f-be0b88aadde7"
   },
   "outputs": [
    {
     "name": "stdout",
     "output_type": "stream",
     "text": [
      "Accuracy: 88.27%\n"
     ]
    }
   ],
   "source": [
    "X=train.drop(['ID','Computer Science', 'Physics', 'Mathematics',\n",
    "       'Statistics', 'Quantitative Biology', 'Quantitative Finance'],axis=1)\n",
    "y=train['Statistics']\n",
    "text_clf = Pipeline([('vect', CountVectorizer()),\n",
    "                     ('tfidf', TfidfTransformer()),\n",
    "                     ('clf',  RidgeClassifier(alpha=1.05,max_iter=10000)), #'clf', RandomForestClassifier(n_estimators=350,verbose=2)\n",
    "                     ])\n",
    "X=X['TITLE']+ ' ' +X['ABSTRACT']\n",
    "X_train, X_test, y_train, y_test = train_test_split(X, y, test_size=0.2)\n",
    "text_clf.fit(X_train,y_train)\n",
    "predicted = text_clf.predict(X_test)\n",
    "accuracy = accuracy_score(y_test, predicted)\n",
    "print(\"Accuracy: %.2f%%\" % (accuracy * 100.0))"
   ]
  },
  {
   "cell_type": "code",
   "execution_count": 43,
   "metadata": {
    "colab": {},
    "colab_type": "code",
    "executionInfo": {
     "elapsed": 4592,
     "status": "ok",
     "timestamp": 1597976867760,
     "user": {
      "displayName": "Shresth Mishra",
      "photoUrl": "https://lh3.googleusercontent.com/a-/AOh14GiG4dS6pwP0ggA9D6IMkt6dF2KN6CWr1N3rfycxRA=s64",
      "userId": "10439759721564897816"
     },
     "user_tz": -330
    },
    "id": "lXEj3gnnm21d"
   },
   "outputs": [],
   "source": [
    "text_clf.fit(X,y)\n",
    "test_predit=text_clf.predict(test1)"
   ]
  },
  {
   "cell_type": "code",
   "execution_count": 44,
   "metadata": {
    "colab": {
     "base_uri": "https://localhost:8080/",
     "height": 204
    },
    "colab_type": "code",
    "executionInfo": {
     "elapsed": 2020,
     "status": "ok",
     "timestamp": 1597976871626,
     "user": {
      "displayName": "Shresth Mishra",
      "photoUrl": "https://lh3.googleusercontent.com/a-/AOh14GiG4dS6pwP0ggA9D6IMkt6dF2KN6CWr1N3rfycxRA=s64",
      "userId": "10439759721564897816"
     },
     "user_tz": -330
    },
    "id": "uUluV0MDm21n",
    "outputId": "805c8b4e-0354-47dd-85aa-7a8482393881"
   },
   "outputs": [
    {
     "data": {
      "text/html": [
       "<div>\n",
       "<style scoped>\n",
       "    .dataframe tbody tr th:only-of-type {\n",
       "        vertical-align: middle;\n",
       "    }\n",
       "\n",
       "    .dataframe tbody tr th {\n",
       "        vertical-align: top;\n",
       "    }\n",
       "\n",
       "    .dataframe thead th {\n",
       "        text-align: right;\n",
       "    }\n",
       "</style>\n",
       "<table border=\"1\" class=\"dataframe\">\n",
       "  <thead>\n",
       "    <tr style=\"text-align: right;\">\n",
       "      <th></th>\n",
       "      <th>ID</th>\n",
       "      <th>Computer Science</th>\n",
       "      <th>Physics</th>\n",
       "      <th>Mathematics</th>\n",
       "      <th>Statistics</th>\n",
       "    </tr>\n",
       "  </thead>\n",
       "  <tbody>\n",
       "    <tr>\n",
       "      <th>0</th>\n",
       "      <td>20973</td>\n",
       "      <td>1</td>\n",
       "      <td>0</td>\n",
       "      <td>0</td>\n",
       "      <td>1</td>\n",
       "    </tr>\n",
       "    <tr>\n",
       "      <th>1</th>\n",
       "      <td>20974</td>\n",
       "      <td>0</td>\n",
       "      <td>1</td>\n",
       "      <td>0</td>\n",
       "      <td>0</td>\n",
       "    </tr>\n",
       "    <tr>\n",
       "      <th>2</th>\n",
       "      <td>20975</td>\n",
       "      <td>1</td>\n",
       "      <td>0</td>\n",
       "      <td>0</td>\n",
       "      <td>0</td>\n",
       "    </tr>\n",
       "    <tr>\n",
       "      <th>3</th>\n",
       "      <td>20976</td>\n",
       "      <td>0</td>\n",
       "      <td>1</td>\n",
       "      <td>0</td>\n",
       "      <td>0</td>\n",
       "    </tr>\n",
       "    <tr>\n",
       "      <th>4</th>\n",
       "      <td>20977</td>\n",
       "      <td>1</td>\n",
       "      <td>0</td>\n",
       "      <td>0</td>\n",
       "      <td>0</td>\n",
       "    </tr>\n",
       "  </tbody>\n",
       "</table>\n",
       "</div>"
      ],
      "text/plain": [
       "      ID  Computer Science  Physics  Mathematics  Statistics\n",
       "0  20973                 1        0            0           1\n",
       "1  20974                 0        1            0           0\n",
       "2  20975                 1        0            0           0\n",
       "3  20976                 0        1            0           0\n",
       "4  20977                 1        0            0           0"
      ]
     },
     "execution_count": 44,
     "metadata": {},
     "output_type": "execute_result"
    }
   ],
   "source": [
    "final['Statistics']=test_predit\n",
    "final.head()"
   ]
  },
  {
   "cell_type": "code",
   "execution_count": 45,
   "metadata": {
    "colab": {
     "base_uri": "https://localhost:8080/",
     "height": 34
    },
    "colab_type": "code",
    "executionInfo": {
     "elapsed": 3685,
     "status": "ok",
     "timestamp": 1597976882746,
     "user": {
      "displayName": "Shresth Mishra",
      "photoUrl": "https://lh3.googleusercontent.com/a-/AOh14GiG4dS6pwP0ggA9D6IMkt6dF2KN6CWr1N3rfycxRA=s64",
      "userId": "10439759721564897816"
     },
     "user_tz": -330
    },
    "id": "iAwrkb9Am21w",
    "outputId": "a3eb35e5-961e-4539-acc2-5daecd8ea25b"
   },
   "outputs": [
    {
     "name": "stdout",
     "output_type": "stream",
     "text": [
      "Accuracy: 97.14%\n"
     ]
    }
   ],
   "source": [
    "X=train.drop(['ID','Computer Science', 'Physics', 'Mathematics',\n",
    "       'Statistics', 'Quantitative Biology', 'Quantitative Finance'],axis=1)\n",
    "y=train['Quantitative Biology']\n",
    "text_clf = Pipeline([('vect', CountVectorizer()),\n",
    "                     ('tfidf', TfidfTransformer()),\n",
    "                     ('clf',  RidgeClassifier(max_iter=10000)), #'clf', RandomForestClassifier(n_estimators=350,verbose=2)\n",
    "                     ])\n",
    "X=X['TITLE']+ ' ' +X['ABSTRACT']\n",
    "X_train, X_test, y_train, y_test = train_test_split(X, y, test_size=0.2)\n",
    "text_clf.fit(X_train,y_train)\n",
    "predicted = text_clf.predict(X_test)\n",
    "accuracy = accuracy_score(y_test, predicted)\n",
    "print(\"Accuracy: %.2f%%\" % (accuracy * 100.0))"
   ]
  },
  {
   "cell_type": "code",
   "execution_count": 46,
   "metadata": {
    "colab": {},
    "colab_type": "code",
    "executionInfo": {
     "elapsed": 4200,
     "status": "ok",
     "timestamp": 1597976889641,
     "user": {
      "displayName": "Shresth Mishra",
      "photoUrl": "https://lh3.googleusercontent.com/a-/AOh14GiG4dS6pwP0ggA9D6IMkt6dF2KN6CWr1N3rfycxRA=s64",
      "userId": "10439759721564897816"
     },
     "user_tz": -330
    },
    "id": "J2suaeFym215"
   },
   "outputs": [],
   "source": [
    "text_clf.fit(X,y)\n",
    "test_predit=text_clf.predict(test1)"
   ]
  },
  {
   "cell_type": "code",
   "execution_count": 47,
   "metadata": {
    "colab": {
     "base_uri": "https://localhost:8080/",
     "height": 204
    },
    "colab_type": "code",
    "executionInfo": {
     "elapsed": 1571,
     "status": "ok",
     "timestamp": 1597976897257,
     "user": {
      "displayName": "Shresth Mishra",
      "photoUrl": "https://lh3.googleusercontent.com/a-/AOh14GiG4dS6pwP0ggA9D6IMkt6dF2KN6CWr1N3rfycxRA=s64",
      "userId": "10439759721564897816"
     },
     "user_tz": -330
    },
    "id": "Dni4L3tAm22E",
    "outputId": "4e571e76-3f59-4dbf-a5ea-259aeb0c82aa"
   },
   "outputs": [
    {
     "data": {
      "text/html": [
       "<div>\n",
       "<style scoped>\n",
       "    .dataframe tbody tr th:only-of-type {\n",
       "        vertical-align: middle;\n",
       "    }\n",
       "\n",
       "    .dataframe tbody tr th {\n",
       "        vertical-align: top;\n",
       "    }\n",
       "\n",
       "    .dataframe thead th {\n",
       "        text-align: right;\n",
       "    }\n",
       "</style>\n",
       "<table border=\"1\" class=\"dataframe\">\n",
       "  <thead>\n",
       "    <tr style=\"text-align: right;\">\n",
       "      <th></th>\n",
       "      <th>ID</th>\n",
       "      <th>Computer Science</th>\n",
       "      <th>Physics</th>\n",
       "      <th>Mathematics</th>\n",
       "      <th>Statistics</th>\n",
       "      <th>Quantitative Biology</th>\n",
       "    </tr>\n",
       "  </thead>\n",
       "  <tbody>\n",
       "    <tr>\n",
       "      <th>0</th>\n",
       "      <td>20973</td>\n",
       "      <td>1</td>\n",
       "      <td>0</td>\n",
       "      <td>0</td>\n",
       "      <td>1</td>\n",
       "      <td>0</td>\n",
       "    </tr>\n",
       "    <tr>\n",
       "      <th>1</th>\n",
       "      <td>20974</td>\n",
       "      <td>0</td>\n",
       "      <td>1</td>\n",
       "      <td>0</td>\n",
       "      <td>0</td>\n",
       "      <td>0</td>\n",
       "    </tr>\n",
       "    <tr>\n",
       "      <th>2</th>\n",
       "      <td>20975</td>\n",
       "      <td>1</td>\n",
       "      <td>0</td>\n",
       "      <td>0</td>\n",
       "      <td>0</td>\n",
       "      <td>0</td>\n",
       "    </tr>\n",
       "    <tr>\n",
       "      <th>3</th>\n",
       "      <td>20976</td>\n",
       "      <td>0</td>\n",
       "      <td>1</td>\n",
       "      <td>0</td>\n",
       "      <td>0</td>\n",
       "      <td>0</td>\n",
       "    </tr>\n",
       "    <tr>\n",
       "      <th>4</th>\n",
       "      <td>20977</td>\n",
       "      <td>1</td>\n",
       "      <td>0</td>\n",
       "      <td>0</td>\n",
       "      <td>0</td>\n",
       "      <td>0</td>\n",
       "    </tr>\n",
       "  </tbody>\n",
       "</table>\n",
       "</div>"
      ],
      "text/plain": [
       "      ID  Computer Science  Physics  Mathematics  Statistics  \\\n",
       "0  20973                 1        0            0           1   \n",
       "1  20974                 0        1            0           0   \n",
       "2  20975                 1        0            0           0   \n",
       "3  20976                 0        1            0           0   \n",
       "4  20977                 1        0            0           0   \n",
       "\n",
       "   Quantitative Biology  \n",
       "0                     0  \n",
       "1                     0  \n",
       "2                     0  \n",
       "3                     0  \n",
       "4                     0  "
      ]
     },
     "execution_count": 47,
     "metadata": {},
     "output_type": "execute_result"
    }
   ],
   "source": [
    "final['Quantitative Biology']=test_predit\n",
    "final.head()"
   ]
  },
  {
   "cell_type": "code",
   "execution_count": 48,
   "metadata": {
    "colab": {
     "base_uri": "https://localhost:8080/",
     "height": 34
    },
    "colab_type": "code",
    "executionInfo": {
     "elapsed": 3709,
     "status": "ok",
     "timestamp": 1597976972697,
     "user": {
      "displayName": "Shresth Mishra",
      "photoUrl": "https://lh3.googleusercontent.com/a-/AOh14GiG4dS6pwP0ggA9D6IMkt6dF2KN6CWr1N3rfycxRA=s64",
      "userId": "10439759721564897816"
     },
     "user_tz": -330
    },
    "id": "9U4K-KoNm22K",
    "outputId": "beb06120-3d85-4d2e-b90d-df4225327bd8"
   },
   "outputs": [
    {
     "name": "stdout",
     "output_type": "stream",
     "text": [
      "Accuracy: 99.17%\n"
     ]
    }
   ],
   "source": [
    "X=train.drop(['ID','Computer Science', 'Physics', 'Mathematics',\n",
    "       'Statistics', 'Quantitative Biology', 'Quantitative Finance'],axis=1)\n",
    "y=train['Quantitative Finance']\n",
    "text_clf = Pipeline([('vect', CountVectorizer()),\n",
    "                     ('tfidf', TfidfTransformer()),\n",
    "                     ('clf',RidgeClassifier(max_iter=1000)), #'clf', RandomForestClassifier(n_estimators=350,verbose=2)\n",
    "                     ])\n",
    "X=X['TITLE']+ ' ' +X['ABSTRACT']\n",
    "X_train, X_test, y_train, y_test = train_test_split(X, y, test_size=0.2)\n",
    "text_clf.fit(X_train,y_train)\n",
    "predicted = text_clf.predict(X_test)\n",
    "accuracy = accuracy_score(y_test, predicted)\n",
    "print(\"Accuracy: %.2f%%\" % (accuracy * 100.0))"
   ]
  },
  {
   "cell_type": "code",
   "execution_count": 49,
   "metadata": {
    "colab": {},
    "colab_type": "code",
    "executionInfo": {
     "elapsed": 5765,
     "status": "ok",
     "timestamp": 1597976975259,
     "user": {
      "displayName": "Shresth Mishra",
      "photoUrl": "https://lh3.googleusercontent.com/a-/AOh14GiG4dS6pwP0ggA9D6IMkt6dF2KN6CWr1N3rfycxRA=s64",
      "userId": "10439759721564897816"
     },
     "user_tz": -330
    },
    "id": "15OH9HWHm22Q"
   },
   "outputs": [],
   "source": [
    "text_clf.fit(X,y)\n",
    "test_predit=text_clf.predict(test1)"
   ]
  },
  {
   "cell_type": "code",
   "execution_count": 50,
   "metadata": {
    "colab": {
     "base_uri": "https://localhost:8080/",
     "height": 204
    },
    "colab_type": "code",
    "executionInfo": {
     "elapsed": 5309,
     "status": "ok",
     "timestamp": 1597976975261,
     "user": {
      "displayName": "Shresth Mishra",
      "photoUrl": "https://lh3.googleusercontent.com/a-/AOh14GiG4dS6pwP0ggA9D6IMkt6dF2KN6CWr1N3rfycxRA=s64",
      "userId": "10439759721564897816"
     },
     "user_tz": -330
    },
    "id": "lTqk8Ahum22X",
    "outputId": "0cec8f6d-f178-4fc2-8fad-cc3b1c90e02f"
   },
   "outputs": [
    {
     "data": {
      "text/html": [
       "<div>\n",
       "<style scoped>\n",
       "    .dataframe tbody tr th:only-of-type {\n",
       "        vertical-align: middle;\n",
       "    }\n",
       "\n",
       "    .dataframe tbody tr th {\n",
       "        vertical-align: top;\n",
       "    }\n",
       "\n",
       "    .dataframe thead th {\n",
       "        text-align: right;\n",
       "    }\n",
       "</style>\n",
       "<table border=\"1\" class=\"dataframe\">\n",
       "  <thead>\n",
       "    <tr style=\"text-align: right;\">\n",
       "      <th></th>\n",
       "      <th>ID</th>\n",
       "      <th>Computer Science</th>\n",
       "      <th>Physics</th>\n",
       "      <th>Mathematics</th>\n",
       "      <th>Statistics</th>\n",
       "      <th>Quantitative Biology</th>\n",
       "      <th>Quantitative Finance</th>\n",
       "    </tr>\n",
       "  </thead>\n",
       "  <tbody>\n",
       "    <tr>\n",
       "      <th>0</th>\n",
       "      <td>20973</td>\n",
       "      <td>1</td>\n",
       "      <td>0</td>\n",
       "      <td>0</td>\n",
       "      <td>1</td>\n",
       "      <td>0</td>\n",
       "      <td>0</td>\n",
       "    </tr>\n",
       "    <tr>\n",
       "      <th>1</th>\n",
       "      <td>20974</td>\n",
       "      <td>0</td>\n",
       "      <td>1</td>\n",
       "      <td>0</td>\n",
       "      <td>0</td>\n",
       "      <td>0</td>\n",
       "      <td>0</td>\n",
       "    </tr>\n",
       "    <tr>\n",
       "      <th>2</th>\n",
       "      <td>20975</td>\n",
       "      <td>1</td>\n",
       "      <td>0</td>\n",
       "      <td>0</td>\n",
       "      <td>0</td>\n",
       "      <td>0</td>\n",
       "      <td>0</td>\n",
       "    </tr>\n",
       "    <tr>\n",
       "      <th>3</th>\n",
       "      <td>20976</td>\n",
       "      <td>0</td>\n",
       "      <td>1</td>\n",
       "      <td>0</td>\n",
       "      <td>0</td>\n",
       "      <td>0</td>\n",
       "      <td>0</td>\n",
       "    </tr>\n",
       "    <tr>\n",
       "      <th>4</th>\n",
       "      <td>20977</td>\n",
       "      <td>1</td>\n",
       "      <td>0</td>\n",
       "      <td>0</td>\n",
       "      <td>0</td>\n",
       "      <td>0</td>\n",
       "      <td>0</td>\n",
       "    </tr>\n",
       "  </tbody>\n",
       "</table>\n",
       "</div>"
      ],
      "text/plain": [
       "      ID  Computer Science  Physics  Mathematics  Statistics  \\\n",
       "0  20973                 1        0            0           1   \n",
       "1  20974                 0        1            0           0   \n",
       "2  20975                 1        0            0           0   \n",
       "3  20976                 0        1            0           0   \n",
       "4  20977                 1        0            0           0   \n",
       "\n",
       "   Quantitative Biology  Quantitative Finance  \n",
       "0                     0                     0  \n",
       "1                     0                     0  \n",
       "2                     0                     0  \n",
       "3                     0                     0  \n",
       "4                     0                     0  "
      ]
     },
     "execution_count": 50,
     "metadata": {},
     "output_type": "execute_result"
    }
   ],
   "source": [
    "final['Quantitative Finance']=test_predit\n",
    "final.head()"
   ]
  },
  {
   "cell_type": "code",
   "execution_count": 51,
   "metadata": {
    "colab": {},
    "colab_type": "code",
    "executionInfo": {
     "elapsed": 5011,
     "status": "ok",
     "timestamp": 1597976975263,
     "user": {
      "displayName": "Shresth Mishra",
      "photoUrl": "https://lh3.googleusercontent.com/a-/AOh14GiG4dS6pwP0ggA9D6IMkt6dF2KN6CWr1N3rfycxRA=s64",
      "userId": "10439759721564897816"
     },
     "user_tz": -330
    },
    "id": "meZVvTjWm22c"
   },
   "outputs": [],
   "source": [
    "pred=final.reindex(columns=['ID','Computer Science', 'Physics', 'Mathematics',\n",
    "       'Statistics', 'Quantitative Biology', 'Quantitative Finance'])"
   ]
  },
  {
   "cell_type": "code",
   "execution_count": 52,
   "metadata": {
    "colab": {
     "base_uri": "https://localhost:8080/",
     "height": 204
    },
    "colab_type": "code",
    "executionInfo": {
     "elapsed": 4251,
     "status": "ok",
     "timestamp": 1597976975264,
     "user": {
      "displayName": "Shresth Mishra",
      "photoUrl": "https://lh3.googleusercontent.com/a-/AOh14GiG4dS6pwP0ggA9D6IMkt6dF2KN6CWr1N3rfycxRA=s64",
      "userId": "10439759721564897816"
     },
     "user_tz": -330
    },
    "id": "cL-bMLPwm22m",
    "outputId": "96afe6ac-e9d8-4283-e404-51a8341c0d80"
   },
   "outputs": [
    {
     "data": {
      "text/html": [
       "<div>\n",
       "<style scoped>\n",
       "    .dataframe tbody tr th:only-of-type {\n",
       "        vertical-align: middle;\n",
       "    }\n",
       "\n",
       "    .dataframe tbody tr th {\n",
       "        vertical-align: top;\n",
       "    }\n",
       "\n",
       "    .dataframe thead th {\n",
       "        text-align: right;\n",
       "    }\n",
       "</style>\n",
       "<table border=\"1\" class=\"dataframe\">\n",
       "  <thead>\n",
       "    <tr style=\"text-align: right;\">\n",
       "      <th></th>\n",
       "      <th>ID</th>\n",
       "      <th>Computer Science</th>\n",
       "      <th>Physics</th>\n",
       "      <th>Mathematics</th>\n",
       "      <th>Statistics</th>\n",
       "      <th>Quantitative Biology</th>\n",
       "      <th>Quantitative Finance</th>\n",
       "    </tr>\n",
       "  </thead>\n",
       "  <tbody>\n",
       "    <tr>\n",
       "      <th>0</th>\n",
       "      <td>20973</td>\n",
       "      <td>1</td>\n",
       "      <td>0</td>\n",
       "      <td>0</td>\n",
       "      <td>1</td>\n",
       "      <td>0</td>\n",
       "      <td>0</td>\n",
       "    </tr>\n",
       "    <tr>\n",
       "      <th>1</th>\n",
       "      <td>20974</td>\n",
       "      <td>0</td>\n",
       "      <td>1</td>\n",
       "      <td>0</td>\n",
       "      <td>0</td>\n",
       "      <td>0</td>\n",
       "      <td>0</td>\n",
       "    </tr>\n",
       "    <tr>\n",
       "      <th>2</th>\n",
       "      <td>20975</td>\n",
       "      <td>1</td>\n",
       "      <td>0</td>\n",
       "      <td>0</td>\n",
       "      <td>0</td>\n",
       "      <td>0</td>\n",
       "      <td>0</td>\n",
       "    </tr>\n",
       "    <tr>\n",
       "      <th>3</th>\n",
       "      <td>20976</td>\n",
       "      <td>0</td>\n",
       "      <td>1</td>\n",
       "      <td>0</td>\n",
       "      <td>0</td>\n",
       "      <td>0</td>\n",
       "      <td>0</td>\n",
       "    </tr>\n",
       "    <tr>\n",
       "      <th>4</th>\n",
       "      <td>20977</td>\n",
       "      <td>1</td>\n",
       "      <td>0</td>\n",
       "      <td>0</td>\n",
       "      <td>0</td>\n",
       "      <td>0</td>\n",
       "      <td>0</td>\n",
       "    </tr>\n",
       "  </tbody>\n",
       "</table>\n",
       "</div>"
      ],
      "text/plain": [
       "      ID  Computer Science  Physics  Mathematics  Statistics  \\\n",
       "0  20973                 1        0            0           1   \n",
       "1  20974                 0        1            0           0   \n",
       "2  20975                 1        0            0           0   \n",
       "3  20976                 0        1            0           0   \n",
       "4  20977                 1        0            0           0   \n",
       "\n",
       "   Quantitative Biology  Quantitative Finance  \n",
       "0                     0                     0  \n",
       "1                     0                     0  \n",
       "2                     0                     0  \n",
       "3                     0                     0  \n",
       "4                     0                     0  "
      ]
     },
     "execution_count": 52,
     "metadata": {},
     "output_type": "execute_result"
    }
   ],
   "source": [
    "pred.to_csv('check2.csv',index=False)\n",
    "pred.head()"
   ]
  },
  {
   "cell_type": "code",
   "execution_count": null,
   "metadata": {
    "colab": {},
    "colab_type": "code",
    "id": "jBBmakdIm22w"
   },
   "outputs": [],
   "source": []
  },
  {
   "cell_type": "code",
   "execution_count": null,
   "metadata": {
    "colab": {},
    "colab_type": "code",
    "id": "d4GQ08Wdm220"
   },
   "outputs": [],
   "source": []
  },
  {
   "cell_type": "code",
   "execution_count": null,
   "metadata": {
    "colab": {},
    "colab_type": "code",
    "id": "Vkuzfx_sm225"
   },
   "outputs": [],
   "source": []
  },
  {
   "cell_type": "code",
   "execution_count": null,
   "metadata": {
    "colab": {},
    "colab_type": "code",
    "id": "pi7wgwpEm23A"
   },
   "outputs": [],
   "source": []
  }
 ],
 "metadata": {
  "colab": {
   "name": "try1.ipynb",
   "provenance": []
  },
  "kernelspec": {
   "display_name": "Python 3",
   "language": "python",
   "name": "python3"
  },
  "language_info": {
   "codemirror_mode": {
    "name": "ipython",
    "version": 3
   },
   "file_extension": ".py",
   "mimetype": "text/x-python",
   "name": "python",
   "nbconvert_exporter": "python",
   "pygments_lexer": "ipython3",
   "version": "3.7.7"
  }
 },
 "nbformat": 4,
 "nbformat_minor": 1
}
